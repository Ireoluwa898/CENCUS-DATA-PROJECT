{
 "cells": [
  {
   "cell_type": "code",
   "execution_count": 1,
   "id": "c967ceb5",
   "metadata": {},
   "outputs": [],
   "source": [
    "#import libraries\n",
    "import pandas as pd\n",
    "import seaborn as sns\n",
    "import matplotlib.pyplot as plt\n",
    "import numpy as np\n",
    "import matplotlib.pyplot as plt\n",
    "import matplotlib.patches as mpatches"
   ]
  },
  {
   "cell_type": "code",
   "execution_count": 2,
   "id": "f11629da",
   "metadata": {},
   "outputs": [
    {
     "data": {
      "text/html": [
       "<div>\n",
       "<style scoped>\n",
       "    .dataframe tbody tr th:only-of-type {\n",
       "        vertical-align: middle;\n",
       "    }\n",
       "\n",
       "    .dataframe tbody tr th {\n",
       "        vertical-align: top;\n",
       "    }\n",
       "\n",
       "    .dataframe thead th {\n",
       "        text-align: right;\n",
       "    }\n",
       "</style>\n",
       "<table border=\"1\" class=\"dataframe\">\n",
       "  <thead>\n",
       "    <tr style=\"text-align: right;\">\n",
       "      <th></th>\n",
       "      <th>House Number</th>\n",
       "      <th>Street</th>\n",
       "      <th>First Name</th>\n",
       "      <th>Surname</th>\n",
       "      <th>Age</th>\n",
       "      <th>Relationship to Head of House</th>\n",
       "      <th>Marital Status</th>\n",
       "      <th>Gender</th>\n",
       "      <th>Occupation</th>\n",
       "      <th>Infirmity</th>\n",
       "      <th>Religion</th>\n",
       "    </tr>\n",
       "  </thead>\n",
       "  <tbody>\n",
       "    <tr>\n",
       "      <th>0</th>\n",
       "      <td>1</td>\n",
       "      <td>Cannon Street</td>\n",
       "      <td>Steven</td>\n",
       "      <td>Webster</td>\n",
       "      <td>45</td>\n",
       "      <td>Head</td>\n",
       "      <td>Single</td>\n",
       "      <td>Male</td>\n",
       "      <td>Chief Technology Officer</td>\n",
       "      <td>None</td>\n",
       "      <td>None</td>\n",
       "    </tr>\n",
       "    <tr>\n",
       "      <th>1</th>\n",
       "      <td>1</td>\n",
       "      <td>Cannon Street</td>\n",
       "      <td>Wayne</td>\n",
       "      <td>Perkins</td>\n",
       "      <td>39</td>\n",
       "      <td>None</td>\n",
       "      <td>Single</td>\n",
       "      <td>Male</td>\n",
       "      <td>Therapist, horticultural</td>\n",
       "      <td>None</td>\n",
       "      <td>None</td>\n",
       "    </tr>\n",
       "    <tr>\n",
       "      <th>2</th>\n",
       "      <td>1</td>\n",
       "      <td>Cannon Street</td>\n",
       "      <td>Garry</td>\n",
       "      <td>O'Sullivan</td>\n",
       "      <td>43</td>\n",
       "      <td>None</td>\n",
       "      <td>Single</td>\n",
       "      <td>Male</td>\n",
       "      <td>Records manager</td>\n",
       "      <td>None</td>\n",
       "      <td>Methodist</td>\n",
       "    </tr>\n",
       "    <tr>\n",
       "      <th>3</th>\n",
       "      <td>1</td>\n",
       "      <td>Cannon Street</td>\n",
       "      <td>Jenna</td>\n",
       "      <td>Herbert</td>\n",
       "      <td>62</td>\n",
       "      <td>None</td>\n",
       "      <td>Single</td>\n",
       "      <td>Female</td>\n",
       "      <td>Outdoor activities/education manager</td>\n",
       "      <td>None</td>\n",
       "      <td>None</td>\n",
       "    </tr>\n",
       "    <tr>\n",
       "      <th>4</th>\n",
       "      <td>2</td>\n",
       "      <td>Cannon Street</td>\n",
       "      <td>Katy</td>\n",
       "      <td>Johnson</td>\n",
       "      <td>48</td>\n",
       "      <td>Head</td>\n",
       "      <td>Single</td>\n",
       "      <td>Female</td>\n",
       "      <td>Loss adjuster, chartered</td>\n",
       "      <td>None</td>\n",
       "      <td>None</td>\n",
       "    </tr>\n",
       "    <tr>\n",
       "      <th>5</th>\n",
       "      <td>3</td>\n",
       "      <td>Cannon Street</td>\n",
       "      <td>Grace</td>\n",
       "      <td>Brown</td>\n",
       "      <td>45</td>\n",
       "      <td>Head</td>\n",
       "      <td>Single</td>\n",
       "      <td>Female</td>\n",
       "      <td>Designer, ceramics/pottery</td>\n",
       "      <td>None</td>\n",
       "      <td>Christian</td>\n",
       "    </tr>\n",
       "    <tr>\n",
       "      <th>6</th>\n",
       "      <td>3</td>\n",
       "      <td>Cannon Street</td>\n",
       "      <td>Julie</td>\n",
       "      <td>Brown</td>\n",
       "      <td>16</td>\n",
       "      <td>Daughter</td>\n",
       "      <td>NaN</td>\n",
       "      <td>Female</td>\n",
       "      <td>Student</td>\n",
       "      <td>None</td>\n",
       "      <td>NaN</td>\n",
       "    </tr>\n",
       "    <tr>\n",
       "      <th>7</th>\n",
       "      <td>3</td>\n",
       "      <td>Cannon Street</td>\n",
       "      <td>Katie</td>\n",
       "      <td>Brown</td>\n",
       "      <td>14</td>\n",
       "      <td>Daughter</td>\n",
       "      <td>NaN</td>\n",
       "      <td>Female</td>\n",
       "      <td>Student</td>\n",
       "      <td>None</td>\n",
       "      <td>NaN</td>\n",
       "    </tr>\n",
       "    <tr>\n",
       "      <th>8</th>\n",
       "      <td>3</td>\n",
       "      <td>Cannon Street</td>\n",
       "      <td>Simon</td>\n",
       "      <td>Brown</td>\n",
       "      <td>11</td>\n",
       "      <td>Son</td>\n",
       "      <td>NaN</td>\n",
       "      <td>Male</td>\n",
       "      <td>Student</td>\n",
       "      <td>None</td>\n",
       "      <td>NaN</td>\n",
       "    </tr>\n",
       "    <tr>\n",
       "      <th>9</th>\n",
       "      <td>3</td>\n",
       "      <td>Cannon Street</td>\n",
       "      <td>Chelsea</td>\n",
       "      <td>Brown</td>\n",
       "      <td>11</td>\n",
       "      <td>Daughter</td>\n",
       "      <td>NaN</td>\n",
       "      <td>Female</td>\n",
       "      <td>Student</td>\n",
       "      <td>None</td>\n",
       "      <td>NaN</td>\n",
       "    </tr>\n",
       "    <tr>\n",
       "      <th>10</th>\n",
       "      <td>4</td>\n",
       "      <td>Cannon Street</td>\n",
       "      <td>Francis</td>\n",
       "      <td>Jones</td>\n",
       "      <td>18</td>\n",
       "      <td>Head</td>\n",
       "      <td>Single</td>\n",
       "      <td>Male</td>\n",
       "      <td>University Student</td>\n",
       "      <td></td>\n",
       "      <td>Catholic</td>\n",
       "    </tr>\n",
       "    <tr>\n",
       "      <th>11</th>\n",
       "      <td>4</td>\n",
       "      <td>Cannon Street</td>\n",
       "      <td>Megan</td>\n",
       "      <td>Grant</td>\n",
       "      <td>19</td>\n",
       "      <td>None</td>\n",
       "      <td>Single</td>\n",
       "      <td>Female</td>\n",
       "      <td>University Student</td>\n",
       "      <td>None</td>\n",
       "      <td>None</td>\n",
       "    </tr>\n",
       "  </tbody>\n",
       "</table>\n",
       "</div>"
      ],
      "text/plain": [
       "    House Number         Street First Name     Surname Age  \\\n",
       "0              1  Cannon Street     Steven     Webster  45   \n",
       "1              1  Cannon Street      Wayne     Perkins  39   \n",
       "2              1  Cannon Street      Garry  O'Sullivan  43   \n",
       "3              1  Cannon Street      Jenna     Herbert  62   \n",
       "4              2  Cannon Street       Katy     Johnson  48   \n",
       "5              3  Cannon Street      Grace       Brown  45   \n",
       "6              3  Cannon Street      Julie       Brown  16   \n",
       "7              3  Cannon Street      Katie       Brown  14   \n",
       "8              3  Cannon Street      Simon       Brown  11   \n",
       "9              3  Cannon Street    Chelsea       Brown  11   \n",
       "10             4  Cannon Street    Francis       Jones  18   \n",
       "11             4  Cannon Street      Megan       Grant  19   \n",
       "\n",
       "   Relationship to Head of House Marital Status  Gender  \\\n",
       "0                           Head         Single    Male   \n",
       "1                           None         Single    Male   \n",
       "2                           None         Single    Male   \n",
       "3                           None         Single  Female   \n",
       "4                           Head         Single  Female   \n",
       "5                           Head         Single  Female   \n",
       "6                       Daughter            NaN  Female   \n",
       "7                       Daughter            NaN  Female   \n",
       "8                            Son            NaN    Male   \n",
       "9                       Daughter            NaN  Female   \n",
       "10                          Head         Single    Male   \n",
       "11                          None         Single  Female   \n",
       "\n",
       "                              Occupation Infirmity   Religion  \n",
       "0               Chief Technology Officer      None       None  \n",
       "1               Therapist, horticultural      None       None  \n",
       "2                        Records manager      None  Methodist  \n",
       "3   Outdoor activities/education manager      None       None  \n",
       "4               Loss adjuster, chartered      None       None  \n",
       "5             Designer, ceramics/pottery      None  Christian  \n",
       "6                                Student      None        NaN  \n",
       "7                                Student      None        NaN  \n",
       "8                                Student      None        NaN  \n",
       "9                                Student      None        NaN  \n",
       "10                    University Student             Catholic  \n",
       "11                    University Student      None       None  "
      ]
     },
     "execution_count": 2,
     "metadata": {},
     "output_type": "execute_result"
    }
   ],
   "source": [
    "#read csv file\n",
    "df=pd.read_csv(\"census05.csv\")\n",
    "df.head(12)"
   ]
  },
  {
   "cell_type": "code",
   "execution_count": 3,
   "id": "8057603c",
   "metadata": {},
   "outputs": [
    {
     "name": "stdout",
     "output_type": "stream",
     "text": [
      "<class 'pandas.core.frame.DataFrame'>\n",
      "RangeIndex: 6000 entries, 0 to 5999\n",
      "Data columns (total 11 columns):\n",
      " #   Column                         Non-Null Count  Dtype \n",
      "---  ------                         --------------  ----- \n",
      " 0   House Number                   6000 non-null   int64 \n",
      " 1   Street                         6000 non-null   object\n",
      " 2   First Name                     6000 non-null   object\n",
      " 3   Surname                        6000 non-null   object\n",
      " 4   Age                            6000 non-null   object\n",
      " 5   Relationship to Head of House  6000 non-null   object\n",
      " 6   Marital Status                 4719 non-null   object\n",
      " 7   Gender                         6000 non-null   object\n",
      " 8   Occupation                     6000 non-null   object\n",
      " 9   Infirmity                      6000 non-null   object\n",
      " 10  Religion                       4681 non-null   object\n",
      "dtypes: int64(1), object(10)\n",
      "memory usage: 515.8+ KB\n"
     ]
    }
   ],
   "source": [
    "df.info()# checking the information of the data"
   ]
  },
  {
   "cell_type": "code",
   "execution_count": 4,
   "id": "7d400770",
   "metadata": {},
   "outputs": [
    {
     "data": {
      "text/plain": [
       "<AxesSubplot: >"
      ]
     },
     "execution_count": 4,
     "metadata": {},
     "output_type": "execute_result"
    },
    {
     "data": {
      "image/png": "[encoded data removed]",
      "text/plain": [
       "<Figure size 640x480 with 1 Axes>"
      ]
     },
     "metadata": {},
     "output_type": "display_data"
    }
   ],
   "source": [
    "sns.heatmap(df.isnull(), cbar=False)# using a heatmap to show the null values among the data set."
   ]
  },
  {
   "cell_type": "markdown",
   "id": "c56eaedb",
   "metadata": {},
   "source": [
    "### Data Cleaning, imputing missing values"
   ]
  },
  {
   "cell_type": "code",
   "execution_count": 5,
   "id": "e8cec9b7",
   "metadata": {},
   "outputs": [
    {
     "data": {
      "text/plain": [
       "House Number                        0\n",
       "Street                              0\n",
       "First Name                          0\n",
       "Surname                             0\n",
       "Age                                 0\n",
       "Relationship to Head of House       0\n",
       "Marital Status                   1281\n",
       "Gender                              0\n",
       "Occupation                          0\n",
       "Infirmity                           0\n",
       "Religion                         1319\n",
       "dtype: int64"
      ]
     },
     "execution_count": 5,
     "metadata": {},
     "output_type": "execute_result"
    }
   ],
   "source": [
    "df.isna().sum()# showing which entries are nulls the sum of them\n",
    "# there are lot of missing value are related to 'Marital Status' and 'Religion'."
   ]
  },
  {
   "cell_type": "code",
   "execution_count": 6,
   "id": "602c5ccd",
   "metadata": {},
   "outputs": [
    {
     "data": {
      "text/plain": [
       "0"
      ]
     },
     "execution_count": 6,
     "metadata": {},
     "output_type": "execute_result"
    }
   ],
   "source": [
    "df.duplicated().sum()"
   ]
  },
  {
   "cell_type": "code",
   "execution_count": 7,
   "id": "eb5eb714",
   "metadata": {},
   "outputs": [
    {
     "data": {
      "text/plain": [
       "array([  1,   2,   3,   4,   5,   6,   7,   8,   9,  10,  11,  12,  13,\n",
       "        14,  15,  16,  17,  18,  19,  20,  21,  22,  23,  24,  25,  26,\n",
       "        27,  28,  29,  30,  31,  32,  33,  34,  35,  36,  37,  38,  39,\n",
       "        40,  41,  42,  43,  44,  45,  46,  47,  48,  49,  50,  51,  52,\n",
       "        53,  54,  55,  56,  57,  58,  59,  60,  61,  62,  63,  64,  65,\n",
       "        66,  67,  68,  69,  70,  71,  72,  73,  74,  75,  76,  77,  78,\n",
       "        79,  80,  81,  82,  83,  84,  85,  86,  87,  88,  89,  90,  91,\n",
       "        92,  93,  94,  95,  96,  97,  98,  99, 100, 101, 102, 103, 104,\n",
       "       105, 106, 107, 108, 109, 110, 111, 112, 113, 114, 115, 116, 117,\n",
       "       118, 119, 120, 121, 122, 123, 124, 125, 126, 127, 128, 129, 130,\n",
       "       131, 132, 133, 134, 135, 136, 137, 138, 139, 140, 141, 142, 143,\n",
       "       144, 145, 146, 147, 148, 149, 150, 151, 152, 153, 154, 155, 156,\n",
       "       157, 158, 159, 160], dtype=int64)"
      ]
     },
     "execution_count": 7,
     "metadata": {},
     "output_type": "execute_result"
    }
   ],
   "source": [
    "#house information number\n",
    "df[\"House Number\"].unique()# finding the unique entries for House Number column."
   ]
  },
  {
   "cell_type": "code",
   "execution_count": 8,
   "id": "f51d529e",
   "metadata": {},
   "outputs": [
    {
     "data": {
      "text/plain": [
       "array(['Cannon Street', 'September Lake', 'Gill Heights',\n",
       "       'Musictill Drive', 'Friary Spurs', 'Hereford Road', 'Ripon Port',\n",
       "       'Parry Crescent', 'Marsh Lane', 'Wessex Drive', 'Dodd Street',\n",
       "       'Ely Road', 'Mitchell Crossing', 'Pigeonpound Lane',\n",
       "       'Violetloop Road', 'Davies Crescent', 'Price Locks',\n",
       "       'Knowles Street', 'Anglia Road', 'Lichfieldcharm Drive',\n",
       "       'Jones Cape', 'Gwent Lock', 'Powell Coves', 'Hall Loop',\n",
       "       'Farrell Avenue', 'Jones Avenue', 'Portsmouth Rest',\n",
       "       'Gibbs Crescent', 'Hopkins Crescent', 'Threpenny Road',\n",
       "       'Dolphin Walks', 'Evans Hills', 'Spring Prairie', 'Farthing Burgs',\n",
       "       'James Avenue', 'Middleton Prairie', 'Hove Crescent',\n",
       "       'Collier Squares', 'Glory Crescent', 'Smith Islands',\n",
       "       'Hove Unions', 'Leisure Mall', 'Newcastle River', 'Penny Drive',\n",
       "       'Chester Road', 'Gardner Crescent', 'Johnson Road',\n",
       "       'Fisher Rapids', 'Knight Avenue', 'Morar Course', 'Scotland Road',\n",
       "       'Powell Road', 'Harrison Islands', 'Rose Harbor', 'Dixon Station',\n",
       "       'Williams Avenue', 'Hawkins Road', 'Green Lane', 'Morrison Avenue',\n",
       "       'Hayes Drive', 'Bennett Islands', 'Nottinghamcut Crescent',\n",
       "       'Frost Lane', 'Webb Highway', 'Tannery Islands',\n",
       "       'Stevens Underpass', 'Skylock Avenue', 'Threpennyban Street',\n",
       "       'Clark Causeway', 'Egbert Street', 'Reindeer Radial',\n",
       "       'Horselink Street', 'Evans Road', 'ExcaliburBells Lane',\n",
       "       'Lucas Shoals', 'Hope Road', 'Dunn Avenue', 'Hall Creek',\n",
       "       'Hussain Orchard', 'Evans Plaza', 'Turner Drive',\n",
       "       'Calendar Crescent', 'Wolverine Lakes', 'Richardson Vista',\n",
       "       'Earlram Lane', 'Butcher Avenue', 'Winter Locks', 'Skinner Road',\n",
       "       'Davidson Crescent', 'Fisher Lane', 'July Keep', 'Young Cabin',\n",
       "       'Davies Cottage', 'Woodward Haven', 'CherryChestnut Fortress',\n",
       "       'Bradford Cottage', 'Lamb Warehouse', 'King Obervatory',\n",
       "       'Blue Granary', 'Trawler Stables', 'Ryan Spire', 'Clarke Ranch',\n",
       "       'Hereford Ranch', 'Column Manorhouse', 'Guinevere Cottage'],\n",
       "      dtype=object)"
      ]
     },
     "execution_count": 8,
     "metadata": {},
     "output_type": "execute_result"
    }
   ],
   "source": [
    "#street information\n",
    "df[\"Street\"].unique()# finding the unique entries for Street column."
   ]
  },
  {
   "cell_type": "code",
   "execution_count": 9,
   "id": "c733ef6f",
   "metadata": {},
   "outputs": [
    {
     "data": {
      "text/html": [
       "<div>\n",
       "<style scoped>\n",
       "    .dataframe tbody tr th:only-of-type {\n",
       "        vertical-align: middle;\n",
       "    }\n",
       "\n",
       "    .dataframe tbody tr th {\n",
       "        vertical-align: top;\n",
       "    }\n",
       "\n",
       "    .dataframe thead th {\n",
       "        text-align: right;\n",
       "    }\n",
       "</style>\n",
       "<table border=\"1\" class=\"dataframe\">\n",
       "  <thead>\n",
       "    <tr style=\"text-align: right;\">\n",
       "      <th></th>\n",
       "      <th>House Number</th>\n",
       "      <th>Street</th>\n",
       "      <th>First Name</th>\n",
       "      <th>Surname</th>\n",
       "      <th>Age</th>\n",
       "      <th>Relationship to Head of House</th>\n",
       "      <th>Marital Status</th>\n",
       "      <th>Gender</th>\n",
       "      <th>Occupation</th>\n",
       "      <th>Infirmity</th>\n",
       "      <th>Religion</th>\n",
       "    </tr>\n",
       "  </thead>\n",
       "  <tbody>\n",
       "  </tbody>\n",
       "</table>\n",
       "</div>"
      ],
      "text/plain": [
       "Empty DataFrame\n",
       "Columns: [House Number, Street, First Name, Surname, Age, Relationship to Head of House, Marital Status, Gender, Occupation, Infirmity, Religion]\n",
       "Index: []"
      ]
     },
     "execution_count": 9,
     "metadata": {},
     "output_type": "execute_result"
    }
   ],
   "source": [
    "df[df[\"Street\"]==' ']#checking empty space for street"
   ]
  },
  {
   "cell_type": "code",
   "execution_count": 10,
   "id": "76935bea",
   "metadata": {},
   "outputs": [
    {
     "data": {
      "text/plain": [
       "Threpenny Road     290\n",
       "Evans Hills        243\n",
       "Parry Crescent     230\n",
       "Jones Cape         227\n",
       "Scotland Road      208\n",
       "Gibbs Crescent     204\n",
       "Wessex Drive       190\n",
       "Williams Avenue    182\n",
       "Gill Heights       155\n",
       "Musictill Drive    149\n",
       "Name: Street, dtype: int64"
      ]
     },
     "execution_count": 10,
     "metadata": {},
     "output_type": "execute_result"
    }
   ],
   "source": [
    "#checks for the top 10 most existing streets\n",
    "df[\"Street\"].value_counts().head(10)"
   ]
  },
  {
   "cell_type": "code",
   "execution_count": 11,
   "id": "84331ade",
   "metadata": {},
   "outputs": [
    {
     "data": {
      "text/plain": [
       "Street\n",
       "Evans Hills         160\n",
       "Jones Cape          138\n",
       "Jones Avenue         79\n",
       "Threpenny Road       77\n",
       "Parry Crescent       60\n",
       "                   ... \n",
       "Bradford Cottage      1\n",
       "King Obervatory       1\n",
       "Blue Granary          1\n",
       "Woodward Haven        1\n",
       "Young Cabin           1\n",
       "Name: House Number, Length: 105, dtype: int64"
      ]
     },
     "execution_count": 11,
     "metadata": {},
     "output_type": "execute_result"
    }
   ],
   "source": [
    "#checks no of occupants on each streets\n",
    "df.groupby('Street')['House Number'].nunique().sort_values(ascending=False)"
   ]
  },
  {
   "cell_type": "code",
   "execution_count": 12,
   "id": "ae7a6901",
   "metadata": {},
   "outputs": [
    {
     "data": {
      "text/plain": [
       "array(['Steven', 'Wayne', 'Garry', 'Jenna', 'Katy', 'Grace', 'Julie',\n",
       "       'Katie', 'Simon', 'Chelsea', 'Francis', 'Megan', 'Barbara',\n",
       "       'Sandra', 'Robert', 'Marc', 'Ashleigh', 'Jodie', 'Kieran',\n",
       "       'Yvonne', ' ', 'Kathleen', 'Andrea', 'Anne', 'Patricia',\n",
       "       'Samantha', 'Terry', 'Wendy', 'Kyle', 'Adrian', 'Lynne', 'Bernard',\n",
       "       'Louise', 'Bethan', 'Darren', 'Geoffrey', 'Victor', 'Marion',\n",
       "       'Eileen', 'Jacqueline', 'Alan', 'Alison', 'Connor', 'Sara', 'Beth',\n",
       "       'Andrew', 'Marie', 'Joseph', 'Paula', 'Brandon', 'Jill', 'Sian',\n",
       "       'Jessica', 'Mathew', 'Matthew', 'Kim', 'Nicola', 'Douglas', 'Gary',\n",
       "       'Zoe', 'Derek', 'Lewis', 'Karen', 'Margaret', 'Graeme', 'Heather',\n",
       "       'Rhys', 'Lauren', 'Katherine', 'Sam', 'Hayley', 'Stacey', 'Fiona',\n",
       "       'Conor', 'Samuel', 'Carl', 'Valerie', 'Christine', 'Lesley',\n",
       "       'Sheila', 'Duncan', 'Denise', 'Maria', 'Ben', 'Gerald', 'Laura',\n",
       "       'Olivia', 'Tom', 'Clive', 'Bethany', 'Allan', 'Dorothy', 'Callum',\n",
       "       'Catherine', 'Jade', 'Rosie', 'Harry', 'Marcus', 'Eleanor',\n",
       "       'Russell', 'Janet', 'Leah', 'Aaron', 'Abdul', 'Liam', 'Joel',\n",
       "       'Elliot', 'Debra', 'Cameron', 'Thomas', 'Dale', 'Julia', 'Joe',\n",
       "       'Raymond', 'Declan', 'Timothy', 'Vincent', 'Annette', 'Sean',\n",
       "       'Jonathan', 'Kayleigh', 'Joanna', 'Carly', 'Abbie', 'Danielle',\n",
       "       'Peter', 'Francesca', 'Tina', 'Guy', 'Brenda', 'Graham', 'Glenn',\n",
       "       'Arthur', 'Victoria', 'Aimee', 'Dawn', 'Stanley', 'Diana', 'Josh',\n",
       "       'Mary', 'Tracey', 'Gavin', 'June', 'Kelly', 'Denis', 'Leanne',\n",
       "       'Carole', 'Daniel', 'Donald', 'Kimberley', 'Naomi', 'Elaine',\n",
       "       'Shannon', 'Kirsty', 'Leon', 'Gareth', 'Patrick', 'Claire',\n",
       "       'Dominic', 'Emma', 'Leigh', 'Susan', 'Damien', 'Howard', 'Harriet',\n",
       "       'Toby', 'Hilary', 'Jordan', 'Henry', 'Emily', 'Nathan', 'Marian',\n",
       "       'Lynda', 'Gregory', 'Eric', 'Ellie', 'Lisa', 'Judith', 'Frederick',\n",
       "       'Philip', 'Carolyn', 'Keith', 'Mohammed', 'Albert', 'Alexandra',\n",
       "       'Dean', 'Lee', 'Amber', 'Sylvia', 'Holly', 'Lorraine', 'Lawrence',\n",
       "       'Ryan', 'Rachel', 'Danny', 'Maurice', 'Kate', 'Robin', 'Sophie',\n",
       "       'Stewart', 'Paige', 'Mark', 'Justin', 'Jasmine', 'Charlene',\n",
       "       'Georgina', 'Amelia', 'Iain', 'Frances', 'Benjamin', 'Clare',\n",
       "       'Jennifer', 'Roy', 'Hollie', 'Diane', 'Mohamed', 'Rachael',\n",
       "       'Charlotte', 'Shirley', 'Jane', 'Brian', 'Rebecca', 'Hannah',\n",
       "       'Gillian', 'Natasha', 'Barry', 'Alexander', 'Sarah', 'Molly',\n",
       "       'Mohammad', 'Joanne', 'Mandy', 'Dennis', 'Beverley', 'Maureen',\n",
       "       'Josephine', 'Colin', 'Terence', 'Caroline', 'Ian', 'Geraldine',\n",
       "       'David', 'Elliott', 'Sharon', 'Karl', 'Shane', 'Nigel', 'Ricky',\n",
       "       'Antony', 'Kathryn', 'Kerry', 'Martyn', 'Stephen', 'Frank',\n",
       "       'Michael', 'Joan', 'Nicole', 'Jeffrey', 'James', 'Martin',\n",
       "       'Leonard', 'Clifford', 'Jamie', 'Lydia', 'Jason', 'Gemma', 'Jake',\n",
       "       'Pauline', 'William', 'Deborah', 'Rosemary', 'Ronald', 'Malcolm',\n",
       "       'Janice', 'Georgia', 'Melissa', 'Marilyn', 'Teresa', 'Phillip',\n",
       "       'John', 'Kenneth', 'Carol', 'Reece', 'Joshua', 'Hugh',\n",
       "       'Christopher', 'Gerard', 'Elizabeth', 'Charles', 'Louis', 'Donna',\n",
       "       'Anthony', 'Billy', 'Amanda', 'Brett', 'Jeremy', 'Gordon',\n",
       "       'Bradley', 'Angela', 'Dylan', 'Lucy', 'Vanessa', 'Stephanie',\n",
       "       'Ashley', 'Craig', 'Jay', 'Irene', 'Amy', 'Adam', 'Jacob', 'Chloe',\n",
       "       'Suzanne', 'Alex', 'Joyce', 'Cheryl', 'Abigail', 'Helen', 'Jayne',\n",
       "       'Julian', 'Natalie', 'Jack', 'George', 'Nicholas', 'Paul', 'Hazel',\n",
       "       'Ann', 'Mitchell', 'Norman', 'Gail', 'Ruth', 'Roger', 'Michelle',\n",
       "       'Stuart', 'Melanie', 'Bruce', 'Bryan', 'Anna', 'Glen', 'Alice',\n",
       "       'Lindsey', 'Tracy', 'Rita', 'Charlie', 'Christian', 'Damian',\n",
       "       'Scott', 'Sally', 'Lynn', 'Shaun', 'Neil', 'Richard', 'Pamela',\n",
       "       'Luke', 'Edward', 'Jemma', 'Tony', 'Ross', 'Linda', 'Oliver',\n",
       "       'Kevin', 'Owen', 'Leslie', 'Trevor', 'Jean', 'Max'], dtype=object)"
      ]
     },
     "execution_count": 12,
     "metadata": {},
     "output_type": "execute_result"
    }
   ],
   "source": [
    "df[\"First Name\"].unique()"
   ]
  },
  {
   "cell_type": "code",
   "execution_count": 13,
   "id": "26f1cb53",
   "metadata": {
    "scrolled": true
   },
   "outputs": [
    {
     "data": {
      "text/html": [
       "<div>\n",
       "<style scoped>\n",
       "    .dataframe tbody tr th:only-of-type {\n",
       "        vertical-align: middle;\n",
       "    }\n",
       "\n",
       "    .dataframe tbody tr th {\n",
       "        vertical-align: top;\n",
       "    }\n",
       "\n",
       "    .dataframe thead th {\n",
       "        text-align: right;\n",
       "    }\n",
       "</style>\n",
       "<table border=\"1\" class=\"dataframe\">\n",
       "  <thead>\n",
       "    <tr style=\"text-align: right;\">\n",
       "      <th></th>\n",
       "      <th>House Number</th>\n",
       "      <th>Street</th>\n",
       "      <th>First Name</th>\n",
       "      <th>Surname</th>\n",
       "      <th>Age</th>\n",
       "      <th>Relationship to Head of House</th>\n",
       "      <th>Marital Status</th>\n",
       "      <th>Gender</th>\n",
       "      <th>Occupation</th>\n",
       "      <th>Infirmity</th>\n",
       "      <th>Religion</th>\n",
       "    </tr>\n",
       "  </thead>\n",
       "  <tbody>\n",
       "    <tr>\n",
       "      <th>20</th>\n",
       "      <td>7</td>\n",
       "      <td>Cannon Street</td>\n",
       "      <td></td>\n",
       "      <td>Cross</td>\n",
       "      <td>34</td>\n",
       "      <td>Head</td>\n",
       "      <td>Single</td>\n",
       "      <td>Male</td>\n",
       "      <td>Speech and language therapist</td>\n",
       "      <td>None</td>\n",
       "      <td>Christian</td>\n",
       "    </tr>\n",
       "  </tbody>\n",
       "</table>\n",
       "</div>"
      ],
      "text/plain": [
       "    House Number         Street First Name Surname Age  \\\n",
       "20             7  Cannon Street              Cross  34   \n",
       "\n",
       "   Relationship to Head of House Marital Status Gender  \\\n",
       "20                          Head         Single   Male   \n",
       "\n",
       "                       Occupation Infirmity   Religion  \n",
       "20  Speech and language therapist      None  Christian  "
      ]
     },
     "execution_count": 13,
     "metadata": {},
     "output_type": "execute_result"
    }
   ],
   "source": [
    "df[df['First Name']==' ']# checking the empty entry for first name"
   ]
  },
  {
   "cell_type": "code",
   "execution_count": 15,
   "id": "b1ca4e95",
   "metadata": {},
   "outputs": [],
   "source": [
    "#Blank in ‘First Name’ was replaced with ‘Missing’ as it is not possible to infer like the surname. \n",
    "df['First Name'] = df['First Name'].str.replace(\" \", \"Missing\", regex=False)#replacing the space with missing"
   ]
  },
  {
   "cell_type": "code",
   "execution_count": 16,
   "id": "26b3fa05",
   "metadata": {},
   "outputs": [
    {
     "data": {
      "text/plain": [
       "array(['Webster', 'Perkins', \"O'Sullivan\", 'Herbert', 'Johnson', 'Brown',\n",
       "       'Jones', 'Grant', 'Randall', 'Bird', 'Smith', 'Perry', 'Roberts',\n",
       "       'Cross', 'Carroll', 'Bradshaw', 'Myers', 'Clark', 'Graham',\n",
       "       'Powell', 'Murphy', 'Davies', 'Reid', 'Taylor', 'Kennedy',\n",
       "       'Charlton', 'Wilkinson', 'Davison', 'Kaur', 'Dunn', 'Lewis',\n",
       "       'Parkes-Yates', 'Norton', 'Watkins', 'Warren', 'Hughes-Warren',\n",
       "       'Parker', 'Cunningham', 'Turner', 'Kirk', 'Ali', 'Jackson', 'Cox',\n",
       "       'Bennett', 'Porter', 'Clarke', 'Hughes', 'Campbell', 'Baker',\n",
       "       'Hudson', 'Hartley', 'Walters', 'Hutchinson', 'Pearson', 'Fuller',\n",
       "       'Willis', 'Walton', 'Bailey', 'Baldwin', 'Evans', 'Barker', 'Dale',\n",
       "       'Harrison', 'Browne', 'Khan', 'Edwards', 'Jarvis', 'Parker-Jarvis',\n",
       "       'Green', 'Watts', 'Young', 'Coleman', 'McCarthy', 'Nolan', 'Sharp',\n",
       "       'Hussain', 'Fowler', 'Wilson', 'Holmes', 'Elliott', 'Sanders',\n",
       "       'Lawrence', 'Boyle', 'Kemp', 'Page', 'Howell', 'Higgins',\n",
       "       'Griffiths', 'Ashton', 'Mills', 'Matthews', 'Russell', 'Price',\n",
       "       'Hilton', 'Hunter', 'Hamilton', 'Fraser', 'Harris', 'Barton',\n",
       "       'Dean', 'Gray', 'Hill-Davis', \"O'Connor\", 'Owen', 'Rees',\n",
       "       'Spencer', 'Robinson', 'Saunders', 'Mahmood', 'Walker', 'Hunt',\n",
       "       'Howarth', 'Butler', 'Tucker', 'Dodd', 'Williams', 'Allen',\n",
       "       'Anderson', 'Patterson', 'Gordon', 'Farrell', 'Ryan', 'Wright',\n",
       "       'Nixon', 'Hobbs', 'Stokes', 'Austin', 'Buckley', 'Morgan', 'John',\n",
       "       'Bell', 'Ellis', 'King', 'Moore', 'Davis', 'Wood', 'Ross',\n",
       "       'Parkin-Ross', 'Hicks', 'Burke', 'Webb', 'Bates', 'Thomas', 'Hale',\n",
       "       'Parsons', 'Patel', 'Brooks', 'Jones-Hughes', 'Gallagher',\n",
       "       'Peacock', 'Thompson', 'Hurst-Cole', 'Stone', 'Giles', 'Byrne',\n",
       "       'Adams', 'Palmer', 'Parkes', 'Clayton', 'Lynch', 'Holt',\n",
       "       'Crawford', 'Lees', 'Rose', 'Barlow', 'Quinn', 'Howard', 'Thorpe',\n",
       "       'Chapman', 'Cook', 'Murray', 'Payne', 'Mason', 'Gregory', 'Jordan',\n",
       "       'Bond', 'Dixon', 'Dyer', 'Phillips', 'Allan', 'Dobson', 'Ward',\n",
       "       'Coles', 'Moss', 'Steele', 'Townsend', 'Brennan', 'Knight',\n",
       "       'White', 'Mitchell', 'Leach', 'Whitehead', 'Sutton', 'Birch',\n",
       "       'Brookes', 'Barnes', 'Reeves', 'Hope', 'Harding', 'Ford',\n",
       "       'Bradley', 'Martin', 'Fisher', 'Dawson', 'Jennings', 'Cooper',\n",
       "       'Riley', 'Lane', 'Harper', 'Howells', 'Pritchard', 'Owens',\n",
       "       'Hancock', 'Blake', 'Kelly', 'Hopkins', 'Field', 'Lambert',\n",
       "       'Williamson-Lambert', 'Mellor', 'Cox-Parsons', 'Norman', 'Watson',\n",
       "       'Hurst', 'Henderson', 'Warner', 'Stewart', 'Stevens', 'Morris',\n",
       "       'Hall', 'Barnett', 'Metcalfe', 'Lee', 'Rahman', 'May',\n",
       "       'Morris-Price', 'George-Williams', 'Sullivan', 'Wallace',\n",
       "       'Osborne', 'Cole', 'Doherty', 'Lyons', 'Gibson', 'Talbot', 'James',\n",
       "       'Butcher', 'Carey', 'Singh', 'Nicholson', 'Finch', 'Duncan',\n",
       "       'Savage', 'Chambers', 'Morrison', 'Joyce', 'Day', 'Heath',\n",
       "       'Stephenson', 'Richardson', 'Bishop', 'Alexander', 'Duffy',\n",
       "       'Newman', 'Barrett', 'Farmer', 'Goddard', 'McDonald', 'Mann',\n",
       "       'Shaw', 'Weston', 'Smart', 'Griffin', 'West', 'Dickinson', 'Rice',\n",
       "       'Joyce-Kelly', 'Gould', 'Sykes', 'Rowe', 'Barber', 'Glover',\n",
       "       'Moran', 'Poole', 'Woodward', 'Holden', 'Murphy-Barrett',\n",
       "       'Vaughan', 'Wheeler', 'Ferguson', 'Shah', 'Burgess', 'Bryant',\n",
       "       'Ball', 'Law', 'McLean', 'Atkins', 'Richards', 'North',\n",
       "       'Williamson', 'Hawkins', 'Parry', 'Booth', 'Robinson-Byrne',\n",
       "       'Bruce', 'Collins', 'Reed', 'Scott', 'Lawson', 'Cox-Davey',\n",
       "       'George', 'Briggs', 'Davidson', 'Simpson', 'Martin-Pearson',\n",
       "       'Jones-Martin', 'Bull', 'Carter', 'Hooper', 'Carr', 'Robertson',\n",
       "       'Cooke', 'Lowe', 'Potter', 'Hill', 'Potts', 'Greenwood', 'Forster',\n",
       "       'Harrison-Morgan', 'Stewart-Harrison-Morgan', 'Burns', 'Stephens',\n",
       "       'Hart', 'Francis', 'Thomson', 'Waters', 'Marsden', 'Bibi',\n",
       "       'Chamberlain', 'Andrews', 'Morley', 'Harvey', 'Wilkins',\n",
       "       'Franklin', 'Goodwin', 'Bolton', 'Abbott', 'Humphries', 'Pope',\n",
       "       'Marshall', 'Pollard', 'Fletcher', 'Collier', 'Daniels', 'Hodgson',\n",
       "       'Curtis', 'Bartlett', 'Pratt', 'Swift-Pratt', 'Skinner', \"O'Brien\",\n",
       "       'Ahmed', 'Wallace-Wheeler', 'Miller', 'Iqbal', 'Rogers', 'Pearce',\n",
       "       'Robson', 'Yates', 'Marsh', 'Mistry', 'Reed-Harrison', 'Nicholls',\n",
       "       'Tyler', 'Gill', 'Wallis', 'Haynes', 'Johnston', 'Wade',\n",
       "       'Sinclair', 'Woods', 'Lloyd', 'Lucas', 'Burton', 'Stevenson',\n",
       "       'Bibi-Lees', 'Winter', 'Ingram', 'Cameron', 'Daly', 'Reynolds',\n",
       "       'Fuller-Wood', 'Knowles', 'Jenkins', 'Wells', 'Godfrey',\n",
       "       'Holloway', \"O'Donnell\", 'Gilbert', 'Lord', 'Arnold', 'Holland',\n",
       "       'Pickering', 'Wilkinson-Brown', 'Swift', 'Foster', 'Pearce-Foster',\n",
       "       'Bowen', 'Wyatt', 'Taylor-Price', 'Cartwright', 'Fox',\n",
       "       'Roberts-Smith', 'Walsh', 'Preston', 'Read', 'Newton',\n",
       "       'Bell-Jackson', 'Hewitt', 'Houghton', 'Macdonald', 'French',\n",
       "       'Begum', 'Watson-Begum', 'Summers', 'Nelson', 'Jones-Ahmed',\n",
       "       'Turner-Wilson', 'Fox-Mann', 'Webster-Bailey', 'Turner-Kaur',\n",
       "       'Burrows', 'Little', 'Taylor-Brown', 'Atkinson', 'Peters', 'Noble',\n",
       "       'Thompson-Mitchell', 'Doyle', 'Slater', 'Naylor-George', 'Banks',\n",
       "       'Knowles-Banks', 'Bailey-Davidson', 'Evans-Edwards',\n",
       "       'Turner-Howarth', 'Todd', 'Nash', 'Black', 'Chandler', 'Pugh',\n",
       "       'Tomlinson', 'Garner', 'Bryan', 'Rhodes', 'Gardiner', 'Shepherd',\n",
       "       'Hayes', 'Scott-Thompson', 'Allan-Harvey', 'Miah', 'Horton',\n",
       "       'Howe', 'Potts-Naylor', 'Sims', 'Gibbs', 'Archer', 'Sheppard',\n",
       "       'Blackburn', 'Wilkinson-Houghton', 'Alexander-Wilkinson-Houghton',\n",
       "       'Ellis-Dixon', 'Rowley', 'Hill-Kemp', 'Kelly-Thomas', 'Wood-Smart',\n",
       "       'Lynch-Wood-Smart', 'Clements', 'Cook-Smith', 'Powell-Hutchinson',\n",
       "       'Hussain-Nelson', 'Turnbull', 'Ellis-Smith', 'Parkinson',\n",
       "       'Faulkner', \"O'Neill\", 'Hammond', 'Fleming', 'Hughes-Shaw',\n",
       "       'Davey', 'Ryan-Connolly', 'Blake-Jones', 'Sutton-Smith', 'Bevan',\n",
       "       'Connor', 'Bray', 'Hardy', 'Middleton', 'Bird-Pearson',\n",
       "       'Hargreaves', 'Warren-Williams', 'Scott-Walsh', 'Fitzgerald',\n",
       "       'Oliver', 'Murphy-May', 'Chan', 'Hanson', 'Stanley', 'McKenzie',\n",
       "       'Parkin', 'Hughes-Thomas', 'Lamb', 'Berry', 'Williams-Dale',\n",
       "       'Stanley-Dobson', 'Armstrong', 'Miller-Wood', 'Benson', 'Simmons',\n",
       "       'Thornton', 'Connolly', 'Wilson-Smart', 'Benson-Smith',\n",
       "       'Harris-Higgins', 'Conway', 'Long', 'Norris', 'Miles',\n",
       "       'Hughes-Hughes', 'Roberts-Wilkinson', 'Short', 'Dennis',\n",
       "       'Lee-Murphy', 'Pugh-Buckley', 'Freeman', 'Thomas-Jones', 'Fry',\n",
       "       'Humphreys', 'Flynn', 'Kay', 'Winter-Clark', 'Randall-Campbell',\n",
       "       'Green-Peacock', 'Coates', 'Fletcher-Coates', 'Fletcher-Mills',\n",
       "       'Evans-Ingram', 'Smith-Cole', 'Wood-Holt', 'Hughes-Norman',\n",
       "       'Smith-Gibbs', 'Douglas', 'Whitehouse', 'Whittaker', 'Kent',\n",
       "       'Holt-Robinson', 'Cook-Ford', 'Cartwright-Warner', 'Newman-Rose',\n",
       "       'Owen-Lynch', 'Adams-Owen-Lynch', 'Power', 'Schofield',\n",
       "       'Grant-Robinson', 'Gibbons', 'Leonard', 'Burton-Potter',\n",
       "       'Parkes-Hughes', 'Brady', 'Manning', 'Gardner', 'Cross-Dennis',\n",
       "       'Vincent-Cross-Dennis', 'Akhtar', 'White-Hughes', 'Kirby',\n",
       "       'Patel-Jones', 'Kerr', 'Welch', 'Morton', 'Connor-Andrews'],\n",
       "      dtype=object)"
      ]
     },
     "execution_count": 16,
     "metadata": {},
     "output_type": "execute_result"
    }
   ],
   "source": [
    "#surname information\n",
    "df[\"Surname\"].unique()# finding the unique entries for Surname column."
   ]
  },
  {
   "cell_type": "code",
   "execution_count": 17,
   "id": "2bf7bf3e",
   "metadata": {},
   "outputs": [
    {
     "data": {
      "text/html": [
       "<div>\n",
       "<style scoped>\n",
       "    .dataframe tbody tr th:only-of-type {\n",
       "        vertical-align: middle;\n",
       "    }\n",
       "\n",
       "    .dataframe tbody tr th {\n",
       "        vertical-align: top;\n",
       "    }\n",
       "\n",
       "    .dataframe thead th {\n",
       "        text-align: right;\n",
       "    }\n",
       "</style>\n",
       "<table border=\"1\" class=\"dataframe\">\n",
       "  <thead>\n",
       "    <tr style=\"text-align: right;\">\n",
       "      <th></th>\n",
       "      <th>House Number</th>\n",
       "      <th>Street</th>\n",
       "      <th>First Name</th>\n",
       "      <th>Surname</th>\n",
       "      <th>Age</th>\n",
       "      <th>Relationship to Head of House</th>\n",
       "      <th>Marital Status</th>\n",
       "      <th>Gender</th>\n",
       "      <th>Occupation</th>\n",
       "      <th>Infirmity</th>\n",
       "      <th>Religion</th>\n",
       "    </tr>\n",
       "  </thead>\n",
       "  <tbody>\n",
       "  </tbody>\n",
       "</table>\n",
       "</div>"
      ],
      "text/plain": [
       "Empty DataFrame\n",
       "Columns: [House Number, Street, First Name, Surname, Age, Relationship to Head of House, Marital Status, Gender, Occupation, Infirmity, Religion]\n",
       "Index: []"
      ]
     },
     "execution_count": 17,
     "metadata": {},
     "output_type": "execute_result"
    }
   ],
   "source": [
    "df[df[\"Surname\"]==' ']#checking empty space for surname"
   ]
  },
  {
   "cell_type": "markdown",
   "id": "8127be8c",
   "metadata": {},
   "source": [
    "### Age Information and Cleaning it"
   ]
  },
  {
   "cell_type": "code",
   "execution_count": 18,
   "id": "c2e40c3e",
   "metadata": {},
   "outputs": [
    {
     "data": {
      "text/plain": [
       "array(['45', '39', '43', '62', '48', '16', '14', '11', '18', '19', '52',\n",
       "       '51', '24', '9', '58', '59', '1', '34', '25', '42', '6', '2', '67',\n",
       "       '65', '36', '28', '22', '40', '47', '3', '20', '26', '38', '0',\n",
       "       '21', '54', '95', '97', '10', '49', '30', '4', '37', '57', '27',\n",
       "       '41', '56', '60', '23', '64', '44', '13', '55', '8', '35', '74',\n",
       "       '78', '63', '31', '61', '7', '72', '46', '29', '32', '15', '53',\n",
       "       '76', '5', '88', '50', '33', '77', '17', '79', '70', '80', '68',\n",
       "       '85', '84', '75', '83', '82', '12', '86', '92', '73', '66', '71',\n",
       "       '69', '89', '90', '87', '56.71875036', ' ', '102', '96', '98',\n",
       "       '99', '93', '81', '94', '67.66437864', '75.34659211',\n",
       "       '78.51677643', '100', '105', '50.11379719', '103', '101', '104'],\n",
       "      dtype=object)"
      ]
     },
     "execution_count": 18,
     "metadata": {},
     "output_type": "execute_result"
    }
   ],
   "source": [
    "df['Age'].unique()"
   ]
  },
  {
   "cell_type": "code",
   "execution_count": 19,
   "id": "f09c301d",
   "metadata": {},
   "outputs": [
    {
     "data": {
      "text/html": [
       "<div>\n",
       "<style scoped>\n",
       "    .dataframe tbody tr th:only-of-type {\n",
       "        vertical-align: middle;\n",
       "    }\n",
       "\n",
       "    .dataframe tbody tr th {\n",
       "        vertical-align: top;\n",
       "    }\n",
       "\n",
       "    .dataframe thead th {\n",
       "        text-align: right;\n",
       "    }\n",
       "</style>\n",
       "<table border=\"1\" class=\"dataframe\">\n",
       "  <thead>\n",
       "    <tr style=\"text-align: right;\">\n",
       "      <th></th>\n",
       "      <th>House Number</th>\n",
       "      <th>Street</th>\n",
       "      <th>First Name</th>\n",
       "      <th>Surname</th>\n",
       "      <th>Age</th>\n",
       "      <th>Relationship to Head of House</th>\n",
       "      <th>Marital Status</th>\n",
       "      <th>Gender</th>\n",
       "      <th>Occupation</th>\n",
       "      <th>Infirmity</th>\n",
       "      <th>Religion</th>\n",
       "    </tr>\n",
       "  </thead>\n",
       "  <tbody>\n",
       "    <tr>\n",
       "      <th>999</th>\n",
       "      <td>4</td>\n",
       "      <td>Dodd Street</td>\n",
       "      <td>Marilyn</td>\n",
       "      <td>Bradley</td>\n",
       "      <td></td>\n",
       "      <td>Head</td>\n",
       "      <td>Married</td>\n",
       "      <td>Female</td>\n",
       "      <td>Dealer</td>\n",
       "      <td>None</td>\n",
       "      <td>None</td>\n",
       "    </tr>\n",
       "  </tbody>\n",
       "</table>\n",
       "</div>"
      ],
      "text/plain": [
       "     House Number       Street First Name  Surname Age  \\\n",
       "999             4  Dodd Street    Marilyn  Bradley       \n",
       "\n",
       "    Relationship to Head of House Marital Status  Gender Occupation Infirmity  \\\n",
       "999                          Head        Married  Female     Dealer      None   \n",
       "\n",
       "    Religion  \n",
       "999     None  "
      ]
     },
     "execution_count": 19,
     "metadata": {},
     "output_type": "execute_result"
    }
   ],
   "source": [
    "df[df['Age']==' ']# checking empty entry for age"
   ]
  },
  {
   "cell_type": "code",
   "execution_count": 20,
   "id": "78997f6a",
   "metadata": {},
   "outputs": [
    {
     "name": "stderr",
     "output_type": "stream",
     "text": [
      "C:\\Users\\HP\\AppData\\Local\\Temp\\ipykernel_34424\\520986945.py:2: UserWarning: Boolean Series key will be reindexed to match DataFrame index.\n",
      "  df[df['Surname'] == 'Bradley'] [df['Street'] == 'Dodd Street']\n"
     ]
    }
   ],
   "source": [
    "# maching people's surname with same address to replace the empty entry for age\n",
    "df[df['Surname'] == 'Bradley'] [df['Street'] == 'Dodd Street']\n",
    "df['Age'] = df['Age'].replace(\" \", \"56\")"
   ]
  },
  {
   "cell_type": "code",
   "execution_count": 21,
   "id": "ef83daff",
   "metadata": {},
   "outputs": [
    {
     "data": {
      "text/plain": [
       "array([ 45,  39,  43,  62,  48,  16,  14,  11,  18,  19,  52,  51,  24,\n",
       "         9,  58,  59,   1,  34,  25,  42,   6,   2,  67,  65,  36,  28,\n",
       "        22,  40,  47,   3,  20,  26,  38,   0,  21,  54,  95,  97,  10,\n",
       "        49,  30,   4,  37,  57,  27,  41,  56,  60,  23,  64,  44,  13,\n",
       "        55,   8,  35,  74,  78,  63,  31,  61,   7,  72,  46,  29,  32,\n",
       "        15,  53,  76,   5,  88,  50,  33,  77,  17,  79,  70,  80,  68,\n",
       "        85,  84,  75,  83,  82,  12,  86,  92,  73,  66,  71,  69,  89,\n",
       "        90,  87, 102,  96,  98,  99,  93,  81,  94, 100, 105, 103, 101,\n",
       "       104], dtype=int64)"
      ]
     },
     "execution_count": 21,
     "metadata": {},
     "output_type": "execute_result"
    }
   ],
   "source": [
    "df['Age'] = [float(i) for i in df['Age']] #changing the type to float\n",
    "df['Age'] = [int(i) for i in df['Age']]# changing the type to integer\n",
    "df['Age'].unique()"
   ]
  },
  {
   "cell_type": "markdown",
   "id": "e4ad20db",
   "metadata": {},
   "source": [
    "### CLEANING THE MARITAL STATUS/AGE\n",
    "I replaced the missing values for minors under 16 with ‘Not Applicable’ since their marital status is not relevant as they are not legally able to marry.  I replaced the missing values for individuals over 16 with ‘Missing’ as it is true that under the (Marriage Act, 1949), it is possible to marry with parental consent. Therefore , I replaced the values with ‘Missing’ to indicate the information is not available, rather than assuming that they are unmarried.  "
   ]
  },
  {
   "cell_type": "code",
   "execution_count": 22,
   "id": "27fa3562",
   "metadata": {},
   "outputs": [
    {
     "data": {
      "text/plain": [
       "array(['Single', nan, 'Divorced', 'Married', 'Widowed'], dtype=object)"
      ]
     },
     "execution_count": 22,
     "metadata": {},
     "output_type": "execute_result"
    }
   ],
   "source": [
    "unique_Marital_Status= df['Marital Status'].unique()#checking the unique values for the marital status\n",
    "unique_Marital_Status"
   ]
  },
  {
   "cell_type": "code",
   "execution_count": 23,
   "id": "5930fbbf",
   "metadata": {},
   "outputs": [
    {
     "data": {
      "text/html": [
       "<div>\n",
       "<style scoped>\n",
       "    .dataframe tbody tr th:only-of-type {\n",
       "        vertical-align: middle;\n",
       "    }\n",
       "\n",
       "    .dataframe tbody tr th {\n",
       "        vertical-align: top;\n",
       "    }\n",
       "\n",
       "    .dataframe thead th {\n",
       "        text-align: right;\n",
       "    }\n",
       "</style>\n",
       "<table border=\"1\" class=\"dataframe\">\n",
       "  <thead>\n",
       "    <tr style=\"text-align: right;\">\n",
       "      <th></th>\n",
       "      <th>House Number</th>\n",
       "      <th>Street</th>\n",
       "      <th>First Name</th>\n",
       "      <th>Surname</th>\n",
       "      <th>Age</th>\n",
       "      <th>Relationship to Head of House</th>\n",
       "      <th>Marital Status</th>\n",
       "      <th>Gender</th>\n",
       "      <th>Occupation</th>\n",
       "      <th>Infirmity</th>\n",
       "      <th>Religion</th>\n",
       "    </tr>\n",
       "  </thead>\n",
       "  <tbody>\n",
       "    <tr>\n",
       "      <th>7</th>\n",
       "      <td>3</td>\n",
       "      <td>Cannon Street</td>\n",
       "      <td>Katie</td>\n",
       "      <td>Brown</td>\n",
       "      <td>14</td>\n",
       "      <td>Daughter</td>\n",
       "      <td>NaN</td>\n",
       "      <td>Female</td>\n",
       "      <td>Student</td>\n",
       "      <td>None</td>\n",
       "      <td>NaN</td>\n",
       "    </tr>\n",
       "    <tr>\n",
       "      <th>8</th>\n",
       "      <td>3</td>\n",
       "      <td>Cannon Street</td>\n",
       "      <td>Simon</td>\n",
       "      <td>Brown</td>\n",
       "      <td>11</td>\n",
       "      <td>Son</td>\n",
       "      <td>NaN</td>\n",
       "      <td>Male</td>\n",
       "      <td>Student</td>\n",
       "      <td>None</td>\n",
       "      <td>NaN</td>\n",
       "    </tr>\n",
       "    <tr>\n",
       "      <th>9</th>\n",
       "      <td>3</td>\n",
       "      <td>Cannon Street</td>\n",
       "      <td>Chelsea</td>\n",
       "      <td>Brown</td>\n",
       "      <td>11</td>\n",
       "      <td>Daughter</td>\n",
       "      <td>NaN</td>\n",
       "      <td>Female</td>\n",
       "      <td>Student</td>\n",
       "      <td>None</td>\n",
       "      <td>NaN</td>\n",
       "    </tr>\n",
       "    <tr>\n",
       "      <th>16</th>\n",
       "      <td>5</td>\n",
       "      <td>Cannon Street</td>\n",
       "      <td>Ashleigh</td>\n",
       "      <td>Bird</td>\n",
       "      <td>9</td>\n",
       "      <td>Daughter</td>\n",
       "      <td>NaN</td>\n",
       "      <td>Female</td>\n",
       "      <td>Student</td>\n",
       "      <td>None</td>\n",
       "      <td>NaN</td>\n",
       "    </tr>\n",
       "    <tr>\n",
       "      <th>19</th>\n",
       "      <td>6</td>\n",
       "      <td>Cannon Street</td>\n",
       "      <td>Yvonne</td>\n",
       "      <td>Roberts</td>\n",
       "      <td>1</td>\n",
       "      <td>Granddaughter</td>\n",
       "      <td>NaN</td>\n",
       "      <td>Female</td>\n",
       "      <td>Child</td>\n",
       "      <td>None</td>\n",
       "      <td>NaN</td>\n",
       "    </tr>\n",
       "    <tr>\n",
       "      <th>...</th>\n",
       "      <td>...</td>\n",
       "      <td>...</td>\n",
       "      <td>...</td>\n",
       "      <td>...</td>\n",
       "      <td>...</td>\n",
       "      <td>...</td>\n",
       "      <td>...</td>\n",
       "      <td>...</td>\n",
       "      <td>...</td>\n",
       "      <td>...</td>\n",
       "      <td>...</td>\n",
       "    </tr>\n",
       "    <tr>\n",
       "      <th>5980</th>\n",
       "      <td>1</td>\n",
       "      <td>Hereford Ranch</td>\n",
       "      <td>Steven</td>\n",
       "      <td>Lee</td>\n",
       "      <td>11</td>\n",
       "      <td>Son</td>\n",
       "      <td>NaN</td>\n",
       "      <td>Male</td>\n",
       "      <td>Student</td>\n",
       "      <td>None</td>\n",
       "      <td>NaN</td>\n",
       "    </tr>\n",
       "    <tr>\n",
       "      <th>5981</th>\n",
       "      <td>1</td>\n",
       "      <td>Hereford Ranch</td>\n",
       "      <td>Shane</td>\n",
       "      <td>Lee</td>\n",
       "      <td>10</td>\n",
       "      <td>Son</td>\n",
       "      <td>NaN</td>\n",
       "      <td>Male</td>\n",
       "      <td>Student</td>\n",
       "      <td>None</td>\n",
       "      <td>NaN</td>\n",
       "    </tr>\n",
       "    <tr>\n",
       "      <th>5982</th>\n",
       "      <td>1</td>\n",
       "      <td>Hereford Ranch</td>\n",
       "      <td>Hollie</td>\n",
       "      <td>Lee</td>\n",
       "      <td>6</td>\n",
       "      <td>Daughter</td>\n",
       "      <td>NaN</td>\n",
       "      <td>Female</td>\n",
       "      <td>Student</td>\n",
       "      <td>None</td>\n",
       "      <td>NaN</td>\n",
       "    </tr>\n",
       "    <tr>\n",
       "      <th>5997</th>\n",
       "      <td>1</td>\n",
       "      <td>Guinevere Cottage</td>\n",
       "      <td>Tony</td>\n",
       "      <td>Payne</td>\n",
       "      <td>2</td>\n",
       "      <td>Son</td>\n",
       "      <td>NaN</td>\n",
       "      <td>Male</td>\n",
       "      <td>Child</td>\n",
       "      <td>None</td>\n",
       "      <td>NaN</td>\n",
       "    </tr>\n",
       "    <tr>\n",
       "      <th>5998</th>\n",
       "      <td>1</td>\n",
       "      <td>Guinevere Cottage</td>\n",
       "      <td>Yvonne</td>\n",
       "      <td>Payne</td>\n",
       "      <td>1</td>\n",
       "      <td>Daughter</td>\n",
       "      <td>NaN</td>\n",
       "      <td>Female</td>\n",
       "      <td>Child</td>\n",
       "      <td>None</td>\n",
       "      <td>NaN</td>\n",
       "    </tr>\n",
       "  </tbody>\n",
       "</table>\n",
       "<p>1121 rows × 11 columns</p>\n",
       "</div>"
      ],
      "text/plain": [
       "      House Number             Street First Name  Surname  Age  \\\n",
       "7                3      Cannon Street      Katie    Brown   14   \n",
       "8                3      Cannon Street      Simon    Brown   11   \n",
       "9                3      Cannon Street    Chelsea    Brown   11   \n",
       "16               5      Cannon Street   Ashleigh     Bird    9   \n",
       "19               6      Cannon Street     Yvonne  Roberts    1   \n",
       "...            ...                ...        ...      ...  ...   \n",
       "5980             1     Hereford Ranch     Steven      Lee   11   \n",
       "5981             1     Hereford Ranch      Shane      Lee   10   \n",
       "5982             1     Hereford Ranch     Hollie      Lee    6   \n",
       "5997             1  Guinevere Cottage       Tony    Payne    2   \n",
       "5998             1  Guinevere Cottage     Yvonne    Payne    1   \n",
       "\n",
       "     Relationship to Head of House Marital Status  Gender Occupation  \\\n",
       "7                         Daughter            NaN  Female    Student   \n",
       "8                              Son            NaN    Male    Student   \n",
       "9                         Daughter            NaN  Female    Student   \n",
       "16                        Daughter            NaN  Female    Student   \n",
       "19                   Granddaughter            NaN  Female      Child   \n",
       "...                            ...            ...     ...        ...   \n",
       "5980                           Son            NaN    Male    Student   \n",
       "5981                           Son            NaN    Male    Student   \n",
       "5982                      Daughter            NaN  Female    Student   \n",
       "5997                           Son            NaN    Male      Child   \n",
       "5998                      Daughter            NaN  Female      Child   \n",
       "\n",
       "     Infirmity Religion  \n",
       "7         None      NaN  \n",
       "8         None      NaN  \n",
       "9         None      NaN  \n",
       "16        None      NaN  \n",
       "19        None      NaN  \n",
       "...        ...      ...  \n",
       "5980      None      NaN  \n",
       "5981      None      NaN  \n",
       "5982      None      NaN  \n",
       "5997      None      NaN  \n",
       "5998      None      NaN  \n",
       "\n",
       "[1121 rows x 11 columns]"
      ]
     },
     "execution_count": 23,
     "metadata": {},
     "output_type": "execute_result"
    }
   ],
   "source": [
    "#checking for NA values for ages under 16\n",
    "df.loc[(df[\"Marital Status\"].isna()) & (df[\"Age\"] <16)]"
   ]
  },
  {
   "cell_type": "code",
   "execution_count": 24,
   "id": "b95e7b03",
   "metadata": {},
   "outputs": [
    {
     "data": {
      "text/html": [
       "<div>\n",
       "<style scoped>\n",
       "    .dataframe tbody tr th:only-of-type {\n",
       "        vertical-align: middle;\n",
       "    }\n",
       "\n",
       "    .dataframe tbody tr th {\n",
       "        vertical-align: top;\n",
       "    }\n",
       "\n",
       "    .dataframe thead th {\n",
       "        text-align: right;\n",
       "    }\n",
       "</style>\n",
       "<table border=\"1\" class=\"dataframe\">\n",
       "  <thead>\n",
       "    <tr style=\"text-align: right;\">\n",
       "      <th></th>\n",
       "      <th>House Number</th>\n",
       "      <th>Street</th>\n",
       "      <th>First Name</th>\n",
       "      <th>Surname</th>\n",
       "      <th>Age</th>\n",
       "      <th>Relationship to Head of House</th>\n",
       "      <th>Marital Status</th>\n",
       "      <th>Gender</th>\n",
       "      <th>Occupation</th>\n",
       "      <th>Infirmity</th>\n",
       "      <th>Religion</th>\n",
       "    </tr>\n",
       "  </thead>\n",
       "  <tbody>\n",
       "    <tr>\n",
       "      <th>6</th>\n",
       "      <td>3</td>\n",
       "      <td>Cannon Street</td>\n",
       "      <td>Julie</td>\n",
       "      <td>Brown</td>\n",
       "      <td>16</td>\n",
       "      <td>Daughter</td>\n",
       "      <td>NaN</td>\n",
       "      <td>Female</td>\n",
       "      <td>Student</td>\n",
       "      <td>None</td>\n",
       "      <td>NaN</td>\n",
       "    </tr>\n",
       "    <tr>\n",
       "      <th>57</th>\n",
       "      <td>2</td>\n",
       "      <td>Gill Heights</td>\n",
       "      <td>Matthew</td>\n",
       "      <td>Dunn</td>\n",
       "      <td>16</td>\n",
       "      <td>Son</td>\n",
       "      <td>NaN</td>\n",
       "      <td>Male</td>\n",
       "      <td>Student</td>\n",
       "      <td>None</td>\n",
       "      <td>NaN</td>\n",
       "    </tr>\n",
       "    <tr>\n",
       "      <th>187</th>\n",
       "      <td>52</td>\n",
       "      <td>Gill Heights</td>\n",
       "      <td>Anne</td>\n",
       "      <td>Green</td>\n",
       "      <td>17</td>\n",
       "      <td>Daughter</td>\n",
       "      <td>NaN</td>\n",
       "      <td>Female</td>\n",
       "      <td>Student</td>\n",
       "      <td>None</td>\n",
       "      <td>NaN</td>\n",
       "    </tr>\n",
       "    <tr>\n",
       "      <th>256</th>\n",
       "      <td>24</td>\n",
       "      <td>Musictill Drive</td>\n",
       "      <td>Philip</td>\n",
       "      <td>Williams</td>\n",
       "      <td>16</td>\n",
       "      <td>Son</td>\n",
       "      <td>NaN</td>\n",
       "      <td>Male</td>\n",
       "      <td>Student</td>\n",
       "      <td>None</td>\n",
       "      <td>NaN</td>\n",
       "    </tr>\n",
       "    <tr>\n",
       "      <th>282</th>\n",
       "      <td>32</td>\n",
       "      <td>Musictill Drive</td>\n",
       "      <td>Ryan</td>\n",
       "      <td>Saunders</td>\n",
       "      <td>16</td>\n",
       "      <td>Son</td>\n",
       "      <td>NaN</td>\n",
       "      <td>Male</td>\n",
       "      <td>Student</td>\n",
       "      <td>None</td>\n",
       "      <td>NaN</td>\n",
       "    </tr>\n",
       "    <tr>\n",
       "      <th>...</th>\n",
       "      <td>...</td>\n",
       "      <td>...</td>\n",
       "      <td>...</td>\n",
       "      <td>...</td>\n",
       "      <td>...</td>\n",
       "      <td>...</td>\n",
       "      <td>...</td>\n",
       "      <td>...</td>\n",
       "      <td>...</td>\n",
       "      <td>...</td>\n",
       "      <td>...</td>\n",
       "    </tr>\n",
       "    <tr>\n",
       "      <th>5845</th>\n",
       "      <td>24</td>\n",
       "      <td>Davidson Crescent</td>\n",
       "      <td>Ashleigh</td>\n",
       "      <td>Walsh</td>\n",
       "      <td>17</td>\n",
       "      <td>Granddaughter</td>\n",
       "      <td>NaN</td>\n",
       "      <td>Female</td>\n",
       "      <td>Student</td>\n",
       "      <td>None</td>\n",
       "      <td>NaN</td>\n",
       "    </tr>\n",
       "    <tr>\n",
       "      <th>5888</th>\n",
       "      <td>15</td>\n",
       "      <td>Fisher Lane</td>\n",
       "      <td>Yvonne</td>\n",
       "      <td>Bird</td>\n",
       "      <td>17</td>\n",
       "      <td>Daughter</td>\n",
       "      <td>NaN</td>\n",
       "      <td>Female</td>\n",
       "      <td>Student</td>\n",
       "      <td>None</td>\n",
       "      <td>NaN</td>\n",
       "    </tr>\n",
       "    <tr>\n",
       "      <th>5894</th>\n",
       "      <td>20</td>\n",
       "      <td>Fisher Lane</td>\n",
       "      <td>Nathan</td>\n",
       "      <td>Atkins</td>\n",
       "      <td>16</td>\n",
       "      <td>Nephew</td>\n",
       "      <td>NaN</td>\n",
       "      <td>Male</td>\n",
       "      <td>Student</td>\n",
       "      <td>None</td>\n",
       "      <td>NaN</td>\n",
       "    </tr>\n",
       "    <tr>\n",
       "      <th>5919</th>\n",
       "      <td>1</td>\n",
       "      <td>Davies Cottage</td>\n",
       "      <td>Joan</td>\n",
       "      <td>Brooks</td>\n",
       "      <td>16</td>\n",
       "      <td>Daughter</td>\n",
       "      <td>NaN</td>\n",
       "      <td>Female</td>\n",
       "      <td>Student</td>\n",
       "      <td>None</td>\n",
       "      <td>NaN</td>\n",
       "    </tr>\n",
       "    <tr>\n",
       "      <th>5994</th>\n",
       "      <td>1</td>\n",
       "      <td>Column Manorhouse</td>\n",
       "      <td>Timothy</td>\n",
       "      <td>Clarke</td>\n",
       "      <td>16</td>\n",
       "      <td>Son</td>\n",
       "      <td>NaN</td>\n",
       "      <td>Male</td>\n",
       "      <td>Student</td>\n",
       "      <td>None</td>\n",
       "      <td>NaN</td>\n",
       "    </tr>\n",
       "  </tbody>\n",
       "</table>\n",
       "<p>160 rows × 11 columns</p>\n",
       "</div>"
      ],
      "text/plain": [
       "      House Number             Street First Name   Surname  Age  \\\n",
       "6                3      Cannon Street      Julie     Brown   16   \n",
       "57               2       Gill Heights    Matthew      Dunn   16   \n",
       "187             52       Gill Heights       Anne     Green   17   \n",
       "256             24    Musictill Drive     Philip  Williams   16   \n",
       "282             32    Musictill Drive       Ryan  Saunders   16   \n",
       "...            ...                ...        ...       ...  ...   \n",
       "5845            24  Davidson Crescent   Ashleigh     Walsh   17   \n",
       "5888            15        Fisher Lane     Yvonne      Bird   17   \n",
       "5894            20        Fisher Lane     Nathan    Atkins   16   \n",
       "5919             1     Davies Cottage       Joan    Brooks   16   \n",
       "5994             1  Column Manorhouse    Timothy    Clarke   16   \n",
       "\n",
       "     Relationship to Head of House Marital Status  Gender Occupation  \\\n",
       "6                         Daughter            NaN  Female    Student   \n",
       "57                             Son            NaN    Male    Student   \n",
       "187                       Daughter            NaN  Female    Student   \n",
       "256                            Son            NaN    Male    Student   \n",
       "282                            Son            NaN    Male    Student   \n",
       "...                            ...            ...     ...        ...   \n",
       "5845                 Granddaughter            NaN  Female    Student   \n",
       "5888                      Daughter            NaN  Female    Student   \n",
       "5894                        Nephew            NaN    Male    Student   \n",
       "5919                      Daughter            NaN  Female    Student   \n",
       "5994                           Son            NaN    Male    Student   \n",
       "\n",
       "     Infirmity Religion  \n",
       "6         None      NaN  \n",
       "57        None      NaN  \n",
       "187       None      NaN  \n",
       "256       None      NaN  \n",
       "282       None      NaN  \n",
       "...        ...      ...  \n",
       "5845      None      NaN  \n",
       "5888      None      NaN  \n",
       "5894      None      NaN  \n",
       "5919      None      NaN  \n",
       "5994      None      NaN  \n",
       "\n",
       "[160 rows x 11 columns]"
      ]
     },
     "execution_count": 24,
     "metadata": {},
     "output_type": "execute_result"
    }
   ],
   "source": [
    "#checking for NA values for ages over 16\n",
    "df.loc[(df[\"Marital Status\"].isna()) & (df[\"Age\"] >=16)]"
   ]
  },
  {
   "cell_type": "code",
   "execution_count": 25,
   "id": "15d0e735",
   "metadata": {},
   "outputs": [
    {
     "data": {
      "text/html": [
       "<div>\n",
       "<style scoped>\n",
       "    .dataframe tbody tr th:only-of-type {\n",
       "        vertical-align: middle;\n",
       "    }\n",
       "\n",
       "    .dataframe tbody tr th {\n",
       "        vertical-align: top;\n",
       "    }\n",
       "\n",
       "    .dataframe thead th {\n",
       "        text-align: right;\n",
       "    }\n",
       "</style>\n",
       "<table border=\"1\" class=\"dataframe\">\n",
       "  <thead>\n",
       "    <tr style=\"text-align: right;\">\n",
       "      <th></th>\n",
       "      <th>House Number</th>\n",
       "      <th>Street</th>\n",
       "      <th>First Name</th>\n",
       "      <th>Surname</th>\n",
       "      <th>Age</th>\n",
       "      <th>Relationship to Head of House</th>\n",
       "      <th>Marital Status</th>\n",
       "      <th>Gender</th>\n",
       "      <th>Occupation</th>\n",
       "      <th>Infirmity</th>\n",
       "      <th>Religion</th>\n",
       "    </tr>\n",
       "  </thead>\n",
       "  <tbody>\n",
       "    <tr>\n",
       "      <th>7</th>\n",
       "      <td>3</td>\n",
       "      <td>Cannon Street</td>\n",
       "      <td>Katie</td>\n",
       "      <td>Brown</td>\n",
       "      <td>14</td>\n",
       "      <td>Daughter</td>\n",
       "      <td>Not Applicable</td>\n",
       "      <td>Female</td>\n",
       "      <td>Student</td>\n",
       "      <td>None</td>\n",
       "      <td>NaN</td>\n",
       "    </tr>\n",
       "    <tr>\n",
       "      <th>8</th>\n",
       "      <td>3</td>\n",
       "      <td>Cannon Street</td>\n",
       "      <td>Simon</td>\n",
       "      <td>Brown</td>\n",
       "      <td>11</td>\n",
       "      <td>Son</td>\n",
       "      <td>Not Applicable</td>\n",
       "      <td>Male</td>\n",
       "      <td>Student</td>\n",
       "      <td>None</td>\n",
       "      <td>NaN</td>\n",
       "    </tr>\n",
       "    <tr>\n",
       "      <th>9</th>\n",
       "      <td>3</td>\n",
       "      <td>Cannon Street</td>\n",
       "      <td>Chelsea</td>\n",
       "      <td>Brown</td>\n",
       "      <td>11</td>\n",
       "      <td>Daughter</td>\n",
       "      <td>Not Applicable</td>\n",
       "      <td>Female</td>\n",
       "      <td>Student</td>\n",
       "      <td>None</td>\n",
       "      <td>NaN</td>\n",
       "    </tr>\n",
       "    <tr>\n",
       "      <th>16</th>\n",
       "      <td>5</td>\n",
       "      <td>Cannon Street</td>\n",
       "      <td>Ashleigh</td>\n",
       "      <td>Bird</td>\n",
       "      <td>9</td>\n",
       "      <td>Daughter</td>\n",
       "      <td>Not Applicable</td>\n",
       "      <td>Female</td>\n",
       "      <td>Student</td>\n",
       "      <td>None</td>\n",
       "      <td>NaN</td>\n",
       "    </tr>\n",
       "    <tr>\n",
       "      <th>19</th>\n",
       "      <td>6</td>\n",
       "      <td>Cannon Street</td>\n",
       "      <td>Yvonne</td>\n",
       "      <td>Roberts</td>\n",
       "      <td>1</td>\n",
       "      <td>Granddaughter</td>\n",
       "      <td>Not Applicable</td>\n",
       "      <td>Female</td>\n",
       "      <td>Child</td>\n",
       "      <td>None</td>\n",
       "      <td>NaN</td>\n",
       "    </tr>\n",
       "    <tr>\n",
       "      <th>...</th>\n",
       "      <td>...</td>\n",
       "      <td>...</td>\n",
       "      <td>...</td>\n",
       "      <td>...</td>\n",
       "      <td>...</td>\n",
       "      <td>...</td>\n",
       "      <td>...</td>\n",
       "      <td>...</td>\n",
       "      <td>...</td>\n",
       "      <td>...</td>\n",
       "      <td>...</td>\n",
       "    </tr>\n",
       "    <tr>\n",
       "      <th>5980</th>\n",
       "      <td>1</td>\n",
       "      <td>Hereford Ranch</td>\n",
       "      <td>Steven</td>\n",
       "      <td>Lee</td>\n",
       "      <td>11</td>\n",
       "      <td>Son</td>\n",
       "      <td>Not Applicable</td>\n",
       "      <td>Male</td>\n",
       "      <td>Student</td>\n",
       "      <td>None</td>\n",
       "      <td>NaN</td>\n",
       "    </tr>\n",
       "    <tr>\n",
       "      <th>5981</th>\n",
       "      <td>1</td>\n",
       "      <td>Hereford Ranch</td>\n",
       "      <td>Shane</td>\n",
       "      <td>Lee</td>\n",
       "      <td>10</td>\n",
       "      <td>Son</td>\n",
       "      <td>Not Applicable</td>\n",
       "      <td>Male</td>\n",
       "      <td>Student</td>\n",
       "      <td>None</td>\n",
       "      <td>NaN</td>\n",
       "    </tr>\n",
       "    <tr>\n",
       "      <th>5982</th>\n",
       "      <td>1</td>\n",
       "      <td>Hereford Ranch</td>\n",
       "      <td>Hollie</td>\n",
       "      <td>Lee</td>\n",
       "      <td>6</td>\n",
       "      <td>Daughter</td>\n",
       "      <td>Not Applicable</td>\n",
       "      <td>Female</td>\n",
       "      <td>Student</td>\n",
       "      <td>None</td>\n",
       "      <td>NaN</td>\n",
       "    </tr>\n",
       "    <tr>\n",
       "      <th>5997</th>\n",
       "      <td>1</td>\n",
       "      <td>Guinevere Cottage</td>\n",
       "      <td>Tony</td>\n",
       "      <td>Payne</td>\n",
       "      <td>2</td>\n",
       "      <td>Son</td>\n",
       "      <td>Not Applicable</td>\n",
       "      <td>Male</td>\n",
       "      <td>Child</td>\n",
       "      <td>None</td>\n",
       "      <td>NaN</td>\n",
       "    </tr>\n",
       "    <tr>\n",
       "      <th>5998</th>\n",
       "      <td>1</td>\n",
       "      <td>Guinevere Cottage</td>\n",
       "      <td>Yvonne</td>\n",
       "      <td>Payne</td>\n",
       "      <td>1</td>\n",
       "      <td>Daughter</td>\n",
       "      <td>Not Applicable</td>\n",
       "      <td>Female</td>\n",
       "      <td>Child</td>\n",
       "      <td>None</td>\n",
       "      <td>NaN</td>\n",
       "    </tr>\n",
       "  </tbody>\n",
       "</table>\n",
       "<p>1121 rows × 11 columns</p>\n",
       "</div>"
      ],
      "text/plain": [
       "      House Number             Street First Name  Surname  Age  \\\n",
       "7                3      Cannon Street      Katie    Brown   14   \n",
       "8                3      Cannon Street      Simon    Brown   11   \n",
       "9                3      Cannon Street    Chelsea    Brown   11   \n",
       "16               5      Cannon Street   Ashleigh     Bird    9   \n",
       "19               6      Cannon Street     Yvonne  Roberts    1   \n",
       "...            ...                ...        ...      ...  ...   \n",
       "5980             1     Hereford Ranch     Steven      Lee   11   \n",
       "5981             1     Hereford Ranch      Shane      Lee   10   \n",
       "5982             1     Hereford Ranch     Hollie      Lee    6   \n",
       "5997             1  Guinevere Cottage       Tony    Payne    2   \n",
       "5998             1  Guinevere Cottage     Yvonne    Payne    1   \n",
       "\n",
       "     Relationship to Head of House  Marital Status  Gender Occupation  \\\n",
       "7                         Daughter  Not Applicable  Female    Student   \n",
       "8                              Son  Not Applicable    Male    Student   \n",
       "9                         Daughter  Not Applicable  Female    Student   \n",
       "16                        Daughter  Not Applicable  Female    Student   \n",
       "19                   Granddaughter  Not Applicable  Female      Child   \n",
       "...                            ...             ...     ...        ...   \n",
       "5980                           Son  Not Applicable    Male    Student   \n",
       "5981                           Son  Not Applicable    Male    Student   \n",
       "5982                      Daughter  Not Applicable  Female    Student   \n",
       "5997                           Son  Not Applicable    Male      Child   \n",
       "5998                      Daughter  Not Applicable  Female      Child   \n",
       "\n",
       "     Infirmity Religion  \n",
       "7         None      NaN  \n",
       "8         None      NaN  \n",
       "9         None      NaN  \n",
       "16        None      NaN  \n",
       "19        None      NaN  \n",
       "...        ...      ...  \n",
       "5980      None      NaN  \n",
       "5981      None      NaN  \n",
       "5982      None      NaN  \n",
       "5997      None      NaN  \n",
       "5998      None      NaN  \n",
       "\n",
       "[1121 rows x 11 columns]"
      ]
     },
     "execution_count": 25,
     "metadata": {},
     "output_type": "execute_result"
    }
   ],
   "source": [
    "#this was replaced with Not applicable\n",
    "df.loc[(df[\"Marital Status\"].isna()) & (df[\"Age\"] <16), :].fillna(value={'Marital Status':'Not Applicable'})"
   ]
  },
  {
   "cell_type": "code",
   "execution_count": 26,
   "id": "7504fe74",
   "metadata": {},
   "outputs": [
    {
     "data": {
      "text/html": [
       "<div>\n",
       "<style scoped>\n",
       "    .dataframe tbody tr th:only-of-type {\n",
       "        vertical-align: middle;\n",
       "    }\n",
       "\n",
       "    .dataframe tbody tr th {\n",
       "        vertical-align: top;\n",
       "    }\n",
       "\n",
       "    .dataframe thead th {\n",
       "        text-align: right;\n",
       "    }\n",
       "</style>\n",
       "<table border=\"1\" class=\"dataframe\">\n",
       "  <thead>\n",
       "    <tr style=\"text-align: right;\">\n",
       "      <th></th>\n",
       "      <th>House Number</th>\n",
       "      <th>Street</th>\n",
       "      <th>First Name</th>\n",
       "      <th>Surname</th>\n",
       "      <th>Age</th>\n",
       "      <th>Relationship to Head of House</th>\n",
       "      <th>Marital Status</th>\n",
       "      <th>Gender</th>\n",
       "      <th>Occupation</th>\n",
       "      <th>Infirmity</th>\n",
       "      <th>Religion</th>\n",
       "    </tr>\n",
       "  </thead>\n",
       "  <tbody>\n",
       "    <tr>\n",
       "      <th>6</th>\n",
       "      <td>3</td>\n",
       "      <td>Cannon Street</td>\n",
       "      <td>Julie</td>\n",
       "      <td>Brown</td>\n",
       "      <td>16</td>\n",
       "      <td>Daughter</td>\n",
       "      <td>Missing</td>\n",
       "      <td>Female</td>\n",
       "      <td>Student</td>\n",
       "      <td>None</td>\n",
       "      <td>NaN</td>\n",
       "    </tr>\n",
       "    <tr>\n",
       "      <th>57</th>\n",
       "      <td>2</td>\n",
       "      <td>Gill Heights</td>\n",
       "      <td>Matthew</td>\n",
       "      <td>Dunn</td>\n",
       "      <td>16</td>\n",
       "      <td>Son</td>\n",
       "      <td>Missing</td>\n",
       "      <td>Male</td>\n",
       "      <td>Student</td>\n",
       "      <td>None</td>\n",
       "      <td>NaN</td>\n",
       "    </tr>\n",
       "    <tr>\n",
       "      <th>187</th>\n",
       "      <td>52</td>\n",
       "      <td>Gill Heights</td>\n",
       "      <td>Anne</td>\n",
       "      <td>Green</td>\n",
       "      <td>17</td>\n",
       "      <td>Daughter</td>\n",
       "      <td>Missing</td>\n",
       "      <td>Female</td>\n",
       "      <td>Student</td>\n",
       "      <td>None</td>\n",
       "      <td>NaN</td>\n",
       "    </tr>\n",
       "    <tr>\n",
       "      <th>256</th>\n",
       "      <td>24</td>\n",
       "      <td>Musictill Drive</td>\n",
       "      <td>Philip</td>\n",
       "      <td>Williams</td>\n",
       "      <td>16</td>\n",
       "      <td>Son</td>\n",
       "      <td>Missing</td>\n",
       "      <td>Male</td>\n",
       "      <td>Student</td>\n",
       "      <td>None</td>\n",
       "      <td>NaN</td>\n",
       "    </tr>\n",
       "    <tr>\n",
       "      <th>282</th>\n",
       "      <td>32</td>\n",
       "      <td>Musictill Drive</td>\n",
       "      <td>Ryan</td>\n",
       "      <td>Saunders</td>\n",
       "      <td>16</td>\n",
       "      <td>Son</td>\n",
       "      <td>Missing</td>\n",
       "      <td>Male</td>\n",
       "      <td>Student</td>\n",
       "      <td>None</td>\n",
       "      <td>NaN</td>\n",
       "    </tr>\n",
       "    <tr>\n",
       "      <th>...</th>\n",
       "      <td>...</td>\n",
       "      <td>...</td>\n",
       "      <td>...</td>\n",
       "      <td>...</td>\n",
       "      <td>...</td>\n",
       "      <td>...</td>\n",
       "      <td>...</td>\n",
       "      <td>...</td>\n",
       "      <td>...</td>\n",
       "      <td>...</td>\n",
       "      <td>...</td>\n",
       "    </tr>\n",
       "    <tr>\n",
       "      <th>5845</th>\n",
       "      <td>24</td>\n",
       "      <td>Davidson Crescent</td>\n",
       "      <td>Ashleigh</td>\n",
       "      <td>Walsh</td>\n",
       "      <td>17</td>\n",
       "      <td>Granddaughter</td>\n",
       "      <td>Missing</td>\n",
       "      <td>Female</td>\n",
       "      <td>Student</td>\n",
       "      <td>None</td>\n",
       "      <td>NaN</td>\n",
       "    </tr>\n",
       "    <tr>\n",
       "      <th>5888</th>\n",
       "      <td>15</td>\n",
       "      <td>Fisher Lane</td>\n",
       "      <td>Yvonne</td>\n",
       "      <td>Bird</td>\n",
       "      <td>17</td>\n",
       "      <td>Daughter</td>\n",
       "      <td>Missing</td>\n",
       "      <td>Female</td>\n",
       "      <td>Student</td>\n",
       "      <td>None</td>\n",
       "      <td>NaN</td>\n",
       "    </tr>\n",
       "    <tr>\n",
       "      <th>5894</th>\n",
       "      <td>20</td>\n",
       "      <td>Fisher Lane</td>\n",
       "      <td>Nathan</td>\n",
       "      <td>Atkins</td>\n",
       "      <td>16</td>\n",
       "      <td>Nephew</td>\n",
       "      <td>Missing</td>\n",
       "      <td>Male</td>\n",
       "      <td>Student</td>\n",
       "      <td>None</td>\n",
       "      <td>NaN</td>\n",
       "    </tr>\n",
       "    <tr>\n",
       "      <th>5919</th>\n",
       "      <td>1</td>\n",
       "      <td>Davies Cottage</td>\n",
       "      <td>Joan</td>\n",
       "      <td>Brooks</td>\n",
       "      <td>16</td>\n",
       "      <td>Daughter</td>\n",
       "      <td>Missing</td>\n",
       "      <td>Female</td>\n",
       "      <td>Student</td>\n",
       "      <td>None</td>\n",
       "      <td>NaN</td>\n",
       "    </tr>\n",
       "    <tr>\n",
       "      <th>5994</th>\n",
       "      <td>1</td>\n",
       "      <td>Column Manorhouse</td>\n",
       "      <td>Timothy</td>\n",
       "      <td>Clarke</td>\n",
       "      <td>16</td>\n",
       "      <td>Son</td>\n",
       "      <td>Missing</td>\n",
       "      <td>Male</td>\n",
       "      <td>Student</td>\n",
       "      <td>None</td>\n",
       "      <td>NaN</td>\n",
       "    </tr>\n",
       "  </tbody>\n",
       "</table>\n",
       "<p>160 rows × 11 columns</p>\n",
       "</div>"
      ],
      "text/plain": [
       "      House Number             Street First Name   Surname  Age  \\\n",
       "6                3      Cannon Street      Julie     Brown   16   \n",
       "57               2       Gill Heights    Matthew      Dunn   16   \n",
       "187             52       Gill Heights       Anne     Green   17   \n",
       "256             24    Musictill Drive     Philip  Williams   16   \n",
       "282             32    Musictill Drive       Ryan  Saunders   16   \n",
       "...            ...                ...        ...       ...  ...   \n",
       "5845            24  Davidson Crescent   Ashleigh     Walsh   17   \n",
       "5888            15        Fisher Lane     Yvonne      Bird   17   \n",
       "5894            20        Fisher Lane     Nathan    Atkins   16   \n",
       "5919             1     Davies Cottage       Joan    Brooks   16   \n",
       "5994             1  Column Manorhouse    Timothy    Clarke   16   \n",
       "\n",
       "     Relationship to Head of House Marital Status  Gender Occupation  \\\n",
       "6                         Daughter        Missing  Female    Student   \n",
       "57                             Son        Missing    Male    Student   \n",
       "187                       Daughter        Missing  Female    Student   \n",
       "256                            Son        Missing    Male    Student   \n",
       "282                            Son        Missing    Male    Student   \n",
       "...                            ...            ...     ...        ...   \n",
       "5845                 Granddaughter        Missing  Female    Student   \n",
       "5888                      Daughter        Missing  Female    Student   \n",
       "5894                        Nephew        Missing    Male    Student   \n",
       "5919                      Daughter        Missing  Female    Student   \n",
       "5994                           Son        Missing    Male    Student   \n",
       "\n",
       "     Infirmity Religion  \n",
       "6         None      NaN  \n",
       "57        None      NaN  \n",
       "187       None      NaN  \n",
       "256       None      NaN  \n",
       "282       None      NaN  \n",
       "...        ...      ...  \n",
       "5845      None      NaN  \n",
       "5888      None      NaN  \n",
       "5894      None      NaN  \n",
       "5919      None      NaN  \n",
       "5994      None      NaN  \n",
       "\n",
       "[160 rows x 11 columns]"
      ]
     },
     "execution_count": 26,
     "metadata": {},
     "output_type": "execute_result"
    }
   ],
   "source": [
    "#this was replaced with NA because it is possible to be married above 16 with parental consent\n",
    "df.loc[(df[\"Marital Status\"].isna()) & (df[\"Age\"] >=16), :].fillna(value={'Marital Status':'Missing'}) "
   ]
  },
  {
   "cell_type": "markdown",
   "id": "281a4941",
   "metadata": {},
   "source": [
    "### HANDLING OUTLIERS FOR MARITAL STATUS\n",
    "By visualizing the outliers in the marital status by the ages and according to the genders, it identified widows at a very young age as outliers especially male and this also showed that some were married and divorced at the age of 18 which is not inappropriate."
   ]
  },
  {
   "cell_type": "code",
   "execution_count": 27,
   "id": "a4de780b",
   "metadata": {},
   "outputs": [
    {
     "data": {
      "text/plain": [
       "<AxesSubplot: xlabel='Age', ylabel='Marital Status'>"
      ]
     },
     "execution_count": 27,
     "metadata": {},
     "output_type": "execute_result"
    },
    {
     "data": {
      "image/png": "[encoded data removed]",
      "text/plain": [
       "<Figure size 640x480 with 1 Axes>"
      ]
     },
     "metadata": {},
     "output_type": "display_data"
    }
   ],
   "source": [
    "sns.boxplot(y=df[\"Marital Status\"], x=df[\"Age\"], hue=df['Gender'])"
   ]
  },
  {
   "cell_type": "markdown",
   "id": "195f70a0",
   "metadata": {},
   "source": [
    "### HANDLING OUTLIERS FOR AGE\n",
    "An outlier is a data point that differs significantly from otherobservations. Outliers could be as result error during data gathering Outliers were identified by using Z-score and boxplot Detecting outliers using the Z-scores Criteria: any data point whose Z-score falls out of 3rd standard deviation is an outlier. loop through all the data points and compute the Z-score using the formula (Xi-mean)/std. define a threshold value of 3 and mark the datapoints whose absolute value of Z-score is greater than the threshold as outliers. (https://www.analyticsvidhya.com/blog/2021/05/detecting-and-treating-outliers-treating-the-odd-one-out/) For the age i defined a threshold value of 3 and mark the datapointys whose absolute value of Z- score is greater than the threshold as outliers and this means that any value presented by Z score below 3 and is also above 3 is identified as an outlier.People with ages over 100 like 102,103,104,105 where identified as outlier but these ages seems to be correct due to thorough review of their occupation column (Retired) and relationship to head of house column."
   ]
  },
  {
   "cell_type": "code",
   "execution_count": 28,
   "id": "7127d11a",
   "metadata": {},
   "outputs": [
    {
     "data": {
      "text/html": [
       "<div>\n",
       "<style scoped>\n",
       "    .dataframe tbody tr th:only-of-type {\n",
       "        vertical-align: middle;\n",
       "    }\n",
       "\n",
       "    .dataframe tbody tr th {\n",
       "        vertical-align: top;\n",
       "    }\n",
       "\n",
       "    .dataframe thead th {\n",
       "        text-align: right;\n",
       "    }\n",
       "</style>\n",
       "<table border=\"1\" class=\"dataframe\">\n",
       "  <thead>\n",
       "    <tr style=\"text-align: right;\">\n",
       "      <th></th>\n",
       "      <th>Age</th>\n",
       "    </tr>\n",
       "  </thead>\n",
       "  <tbody>\n",
       "    <tr>\n",
       "      <th>count</th>\n",
       "      <td>6000.000000</td>\n",
       "    </tr>\n",
       "    <tr>\n",
       "      <th>mean</th>\n",
       "      <td>36.802667</td>\n",
       "    </tr>\n",
       "    <tr>\n",
       "      <th>std</th>\n",
       "      <td>21.722002</td>\n",
       "    </tr>\n",
       "    <tr>\n",
       "      <th>min</th>\n",
       "      <td>0.000000</td>\n",
       "    </tr>\n",
       "    <tr>\n",
       "      <th>25%</th>\n",
       "      <td>19.000000</td>\n",
       "    </tr>\n",
       "    <tr>\n",
       "      <th>50%</th>\n",
       "      <td>35.000000</td>\n",
       "    </tr>\n",
       "    <tr>\n",
       "      <th>75%</th>\n",
       "      <td>52.000000</td>\n",
       "    </tr>\n",
       "    <tr>\n",
       "      <th>max</th>\n",
       "      <td>105.000000</td>\n",
       "    </tr>\n",
       "  </tbody>\n",
       "</table>\n",
       "</div>"
      ],
      "text/plain": [
       "               Age\n",
       "count  6000.000000\n",
       "mean     36.802667\n",
       "std      21.722002\n",
       "min       0.000000\n",
       "25%      19.000000\n",
       "50%      35.000000\n",
       "75%      52.000000\n",
       "max     105.000000"
      ]
     },
     "execution_count": 28,
     "metadata": {},
     "output_type": "execute_result"
    }
   ],
   "source": [
    "df[[\"Age\"]].describe()"
   ]
  },
  {
   "cell_type": "code",
   "execution_count": 29,
   "id": "1cd3d7a7",
   "metadata": {},
   "outputs": [
    {
     "name": "stdout",
     "output_type": "stream",
     "text": [
      "Outlier for the Ages are [102, 102, 102, 105, 105, 102, 103, 104]\n"
     ]
    }
   ],
   "source": [
    "# using Z score to identify outliers in the Age Colunm\n",
    "Mean=df['Age'].mean()\n",
    "Std=df['Age'].std()\n",
    "threshold = 3\n",
    "outlier = [] \n",
    "for i in df['Age']: \n",
    "    z = (i-Mean)/Std \n",
    "    if z > threshold: \n",
    "        outlier.append(i) \n",
    "print('Outlier for the Ages are', outlier) "
   ]
  },
  {
   "cell_type": "markdown",
   "id": "d0d3215b",
   "metadata": {},
   "source": [
    "### RELATIONSHIP TO BE HEAD OF HOUSE AND CLEANING IT"
   ]
  },
  {
   "cell_type": "markdown",
   "id": "4b9a01fd",
   "metadata": {},
   "source": [
    "### Relationship to head of house\n",
    "There are three households where the head of family is either 16 or 17 years old, and each household has a child. \n",
    "One household is a 16-year-old who is divorced with a child, another household is a 17-year-old who is single with a child, and the third household is a 16-year-old who is married with a child. Based on this information it is likely that they are responsible for the household and family members.\n",
    "For the 16-year-old who is married with a child. It is legally possible for individuals who are 16 years old or older to marry with parental consent, as outlined in the marriage act, 1949. Therefore it is possible that the 16 year old who is married may have obtained parental consent to marry her 19-year-old husband. It is important to ensure that individuals who marry at a young age have access to the resources and support they need , including education, health care and legal services.\n",
    "For the 16-year-old who is divorced with a child, it is important to ensure that the welfare of the minor and the child are being properly taken care of.\n",
    "For the 17-year-old who is single with a child, similar steps should be taken to ensure that minor and the child receive the necessary support and resources. This could include assistance with childcare, education and other basic needs.\n",
    "In one instance, ‘Niece’ was mistakenly spelt as 'Neice'. This was replaced with 'Niece'.\n",
    "\n"
   ]
  },
  {
   "cell_type": "code",
   "execution_count": 30,
   "id": "e819f530",
   "metadata": {},
   "outputs": [
    {
     "data": {
      "text/html": [
       "<div>\n",
       "<style scoped>\n",
       "    .dataframe tbody tr th:only-of-type {\n",
       "        vertical-align: middle;\n",
       "    }\n",
       "\n",
       "    .dataframe tbody tr th {\n",
       "        vertical-align: top;\n",
       "    }\n",
       "\n",
       "    .dataframe thead th {\n",
       "        text-align: right;\n",
       "    }\n",
       "</style>\n",
       "<table border=\"1\" class=\"dataframe\">\n",
       "  <thead>\n",
       "    <tr style=\"text-align: right;\">\n",
       "      <th></th>\n",
       "      <th>House Number</th>\n",
       "      <th>Street</th>\n",
       "      <th>First Name</th>\n",
       "      <th>Surname</th>\n",
       "      <th>Age</th>\n",
       "      <th>Relationship to Head of House</th>\n",
       "      <th>Marital Status</th>\n",
       "      <th>Gender</th>\n",
       "      <th>Occupation</th>\n",
       "      <th>Infirmity</th>\n",
       "      <th>Religion</th>\n",
       "    </tr>\n",
       "  </thead>\n",
       "  <tbody>\n",
       "    <tr>\n",
       "      <th>3490</th>\n",
       "      <td>2</td>\n",
       "      <td>Johnson Road</td>\n",
       "      <td>Molly</td>\n",
       "      <td>Smith</td>\n",
       "      <td>17</td>\n",
       "      <td>Head</td>\n",
       "      <td>Single</td>\n",
       "      <td>Female</td>\n",
       "      <td>Unemployed</td>\n",
       "      <td>None</td>\n",
       "      <td>NaN</td>\n",
       "    </tr>\n",
       "    <tr>\n",
       "      <th>3917</th>\n",
       "      <td>20</td>\n",
       "      <td>Powell Road</td>\n",
       "      <td>Debra</td>\n",
       "      <td>Turnbull</td>\n",
       "      <td>16</td>\n",
       "      <td>Head</td>\n",
       "      <td>Divorced</td>\n",
       "      <td>Female</td>\n",
       "      <td>Student</td>\n",
       "      <td>None</td>\n",
       "      <td>NaN</td>\n",
       "    </tr>\n",
       "    <tr>\n",
       "      <th>5384</th>\n",
       "      <td>18</td>\n",
       "      <td>Hall Creek</td>\n",
       "      <td>Carolyn</td>\n",
       "      <td>Robinson</td>\n",
       "      <td>16</td>\n",
       "      <td>Head</td>\n",
       "      <td>Married</td>\n",
       "      <td>Female</td>\n",
       "      <td>Student</td>\n",
       "      <td>None</td>\n",
       "      <td>NaN</td>\n",
       "    </tr>\n",
       "  </tbody>\n",
       "</table>\n",
       "</div>"
      ],
      "text/plain": [
       "      House Number        Street First Name   Surname  Age  \\\n",
       "3490             2  Johnson Road      Molly     Smith   17   \n",
       "3917            20   Powell Road      Debra  Turnbull   16   \n",
       "5384            18    Hall Creek    Carolyn  Robinson   16   \n",
       "\n",
       "     Relationship to Head of House Marital Status  Gender  Occupation  \\\n",
       "3490                          Head         Single  Female  Unemployed   \n",
       "3917                          Head       Divorced  Female     Student   \n",
       "5384                          Head        Married  Female     Student   \n",
       "\n",
       "     Infirmity Religion  \n",
       "3490      None      NaN  \n",
       "3917      None      NaN  \n",
       "5384      None      NaN  "
      ]
     },
     "execution_count": 30,
     "metadata": {},
     "output_type": "execute_result"
    }
   ],
   "source": [
    "#Relationship to head of house\n",
    "# checking for ages under 18 that are head of the family\n",
    "df[(df['Age'] < 18) & (df['Relationship to Head of House'] == 'Head')]"
   ]
  },
  {
   "cell_type": "code",
   "execution_count": 31,
   "id": "40fe3043",
   "metadata": {},
   "outputs": [],
   "source": [
    "##'Niece’ was mistakenly spelt as ‘Niece’. This was replaced with ‘Niece.’\n",
    "df[\"Relationship to Head of House\"] = df[\"Relationship to Head of House\"].replace(\"Neice\",'Niece')"
   ]
  },
  {
   "cell_type": "code",
   "execution_count": 32,
   "id": "d1008982",
   "metadata": {},
   "outputs": [
    {
     "data": {
      "text/plain": [
       "array(['Head', 'None', 'Daughter', 'Son', 'Partner', 'Husband',\n",
       "       'Granddaughter', 'Lodger', 'Wife', 'Sibling', 'Visitor', 'Cousin',\n",
       "       'Grandson', 'Step-Son', 'Niece', 'Nephew', 'Step-Daughter',\n",
       "       'Adopted Son', 'Adopted Daughter', 'Son-in-law'], dtype=object)"
      ]
     },
     "execution_count": 32,
     "metadata": {},
     "output_type": "execute_result"
    }
   ],
   "source": [
    "df['Relationship to Head of House'].unique()"
   ]
  },
  {
   "cell_type": "code",
   "execution_count": 65,
   "id": "95f1337b",
   "metadata": {},
   "outputs": [
    {
     "data": {
      "image/png": "[encoded data removed]",
      "text/plain": [
       "<Figure size 613.5x500 with 1 Axes>"
      ]
     },
     "metadata": {},
     "output_type": "display_data"
    }
   ],
   "source": [
    "#relationship to head of house against age by considering the marital status\n",
    "plot1 = sns.relplot(data=df, x='Age', y='Relationship to Head of House',hue='Marital Status')"
   ]
  },
  {
   "cell_type": "markdown",
   "id": "6d5d6a4c",
   "metadata": {},
   "source": [
    "### OCCUPATION INFORMATION AND CLEANING IT"
   ]
  },
  {
   "cell_type": "markdown",
   "id": "a1b6f81f",
   "metadata": {},
   "source": [
    "### The two blanks in the occupation column were replaced with ‘Missing’ as the occupation status of these individuals is unknown. "
   ]
  },
  {
   "cell_type": "code",
   "execution_count": 33,
   "id": "f5b2bb44",
   "metadata": {},
   "outputs": [
    {
     "data": {
      "text/html": [
       "<div>\n",
       "<style scoped>\n",
       "    .dataframe tbody tr th:only-of-type {\n",
       "        vertical-align: middle;\n",
       "    }\n",
       "\n",
       "    .dataframe tbody tr th {\n",
       "        vertical-align: top;\n",
       "    }\n",
       "\n",
       "    .dataframe thead th {\n",
       "        text-align: right;\n",
       "    }\n",
       "</style>\n",
       "<table border=\"1\" class=\"dataframe\">\n",
       "  <thead>\n",
       "    <tr style=\"text-align: right;\">\n",
       "      <th></th>\n",
       "      <th>House Number</th>\n",
       "      <th>Street</th>\n",
       "      <th>First Name</th>\n",
       "      <th>Surname</th>\n",
       "      <th>Age</th>\n",
       "      <th>Relationship to Head of House</th>\n",
       "      <th>Marital Status</th>\n",
       "      <th>Gender</th>\n",
       "      <th>Occupation</th>\n",
       "      <th>Infirmity</th>\n",
       "      <th>Religion</th>\n",
       "    </tr>\n",
       "  </thead>\n",
       "  <tbody>\n",
       "    <tr>\n",
       "      <th>2943</th>\n",
       "      <td>15</td>\n",
       "      <td>Middleton Prairie</td>\n",
       "      <td>Jenna</td>\n",
       "      <td>Burton</td>\n",
       "      <td>35</td>\n",
       "      <td>Head</td>\n",
       "      <td>Married</td>\n",
       "      <td>Female</td>\n",
       "      <td></td>\n",
       "      <td>None</td>\n",
       "      <td>Christian</td>\n",
       "    </tr>\n",
       "    <tr>\n",
       "      <th>3031</th>\n",
       "      <td>7</td>\n",
       "      <td>Collier Squares</td>\n",
       "      <td>Brandon</td>\n",
       "      <td>Blackburn</td>\n",
       "      <td>34</td>\n",
       "      <td>Husband</td>\n",
       "      <td>Married</td>\n",
       "      <td>Male</td>\n",
       "      <td></td>\n",
       "      <td>None</td>\n",
       "      <td>None</td>\n",
       "    </tr>\n",
       "  </tbody>\n",
       "</table>\n",
       "</div>"
      ],
      "text/plain": [
       "      House Number             Street First Name    Surname  Age  \\\n",
       "2943            15  Middleton Prairie      Jenna     Burton   35   \n",
       "3031             7    Collier Squares    Brandon  Blackburn   34   \n",
       "\n",
       "     Relationship to Head of House Marital Status  Gender Occupation  \\\n",
       "2943                          Head        Married  Female              \n",
       "3031                       Husband        Married    Male              \n",
       "\n",
       "     Infirmity   Religion  \n",
       "2943      None  Christian  \n",
       "3031      None       None  "
      ]
     },
     "execution_count": 33,
     "metadata": {},
     "output_type": "execute_result"
    }
   ],
   "source": [
    "df[df['Occupation']==' ']#checking if there is any space value in occupation column"
   ]
  },
  {
   "cell_type": "code",
   "execution_count": 34,
   "id": "e993fc7f",
   "metadata": {},
   "outputs": [],
   "source": [
    "df['Occupation'] = df['Occupation'].replace(\" \", \"Missing\")# blanks replaced with missing because the occupation is unknown"
   ]
  },
  {
   "cell_type": "code",
   "execution_count": 35,
   "id": "094ff4b6",
   "metadata": {},
   "outputs": [
    {
     "data": {
      "text/html": [
       "<div>\n",
       "<style scoped>\n",
       "    .dataframe tbody tr th:only-of-type {\n",
       "        vertical-align: middle;\n",
       "    }\n",
       "\n",
       "    .dataframe tbody tr th {\n",
       "        vertical-align: top;\n",
       "    }\n",
       "\n",
       "    .dataframe thead th {\n",
       "        text-align: right;\n",
       "    }\n",
       "</style>\n",
       "<table border=\"1\" class=\"dataframe\">\n",
       "  <thead>\n",
       "    <tr style=\"text-align: right;\">\n",
       "      <th></th>\n",
       "      <th>House Number</th>\n",
       "      <th>Street</th>\n",
       "      <th>First Name</th>\n",
       "      <th>Surname</th>\n",
       "      <th>Age</th>\n",
       "      <th>Relationship to Head of House</th>\n",
       "      <th>Marital Status</th>\n",
       "      <th>Gender</th>\n",
       "      <th>Occupation</th>\n",
       "      <th>Infirmity</th>\n",
       "      <th>Religion</th>\n",
       "    </tr>\n",
       "  </thead>\n",
       "  <tbody>\n",
       "    <tr>\n",
       "      <th>659</th>\n",
       "      <td>39</td>\n",
       "      <td>Parry Crescent</td>\n",
       "      <td>Marian</td>\n",
       "      <td>Hurst</td>\n",
       "      <td>83</td>\n",
       "      <td>Head</td>\n",
       "      <td>Widowed</td>\n",
       "      <td>Female</td>\n",
       "      <td>Retired</td>\n",
       "      <td>None</td>\n",
       "      <td>Methodist</td>\n",
       "    </tr>\n",
       "    <tr>\n",
       "      <th>728</th>\n",
       "      <td>54</td>\n",
       "      <td>Parry Crescent</td>\n",
       "      <td>Francesca</td>\n",
       "      <td>Sullivan</td>\n",
       "      <td>67</td>\n",
       "      <td>Head</td>\n",
       "      <td>Widowed</td>\n",
       "      <td>Female</td>\n",
       "      <td>Retired</td>\n",
       "      <td>None</td>\n",
       "      <td>Christian</td>\n",
       "    </tr>\n",
       "    <tr>\n",
       "      <th>1089</th>\n",
       "      <td>5</td>\n",
       "      <td>Pigeonpound Lane</td>\n",
       "      <td>Chelsea</td>\n",
       "      <td>Walker</td>\n",
       "      <td>68</td>\n",
       "      <td>Head</td>\n",
       "      <td>Divorced</td>\n",
       "      <td>Female</td>\n",
       "      <td>Retired</td>\n",
       "      <td>None</td>\n",
       "      <td>None</td>\n",
       "    </tr>\n",
       "    <tr>\n",
       "      <th>1250</th>\n",
       "      <td>9</td>\n",
       "      <td>Price Locks</td>\n",
       "      <td>Stanley</td>\n",
       "      <td>Green</td>\n",
       "      <td>66</td>\n",
       "      <td>Husband</td>\n",
       "      <td>Married</td>\n",
       "      <td>Male</td>\n",
       "      <td>Retired</td>\n",
       "      <td>None</td>\n",
       "      <td>None</td>\n",
       "    </tr>\n",
       "    <tr>\n",
       "      <th>1328</th>\n",
       "      <td>2</td>\n",
       "      <td>Lichfieldcharm Drive</td>\n",
       "      <td>Reece</td>\n",
       "      <td>Hamilton</td>\n",
       "      <td>65</td>\n",
       "      <td>Husband</td>\n",
       "      <td>Married</td>\n",
       "      <td>Male</td>\n",
       "      <td>Retired</td>\n",
       "      <td>None</td>\n",
       "      <td>Christian</td>\n",
       "    </tr>\n",
       "    <tr>\n",
       "      <th>1461</th>\n",
       "      <td>75</td>\n",
       "      <td>Jones Cape</td>\n",
       "      <td>Tom</td>\n",
       "      <td>Wheeler</td>\n",
       "      <td>75</td>\n",
       "      <td>Head</td>\n",
       "      <td>Widowed</td>\n",
       "      <td>Male</td>\n",
       "      <td>Retired</td>\n",
       "      <td>None</td>\n",
       "      <td>Christian</td>\n",
       "    </tr>\n",
       "    <tr>\n",
       "      <th>1553</th>\n",
       "      <td>133</td>\n",
       "      <td>Jones Cape</td>\n",
       "      <td>Lee</td>\n",
       "      <td>Webb</td>\n",
       "      <td>76</td>\n",
       "      <td>Head</td>\n",
       "      <td>Widowed</td>\n",
       "      <td>Male</td>\n",
       "      <td>Retired</td>\n",
       "      <td>None</td>\n",
       "      <td>Christian</td>\n",
       "    </tr>\n",
       "    <tr>\n",
       "      <th>1621</th>\n",
       "      <td>3</td>\n",
       "      <td>Powell Coves</td>\n",
       "      <td>Kate</td>\n",
       "      <td>Page</td>\n",
       "      <td>71</td>\n",
       "      <td>Head</td>\n",
       "      <td>Widowed</td>\n",
       "      <td>Female</td>\n",
       "      <td>Retired</td>\n",
       "      <td>None</td>\n",
       "      <td>Christian</td>\n",
       "    </tr>\n",
       "    <tr>\n",
       "      <th>1688</th>\n",
       "      <td>2</td>\n",
       "      <td>Hall Loop</td>\n",
       "      <td>Shirley</td>\n",
       "      <td>Kelly</td>\n",
       "      <td>65</td>\n",
       "      <td>Head</td>\n",
       "      <td>Divorced</td>\n",
       "      <td>Female</td>\n",
       "      <td>Retired</td>\n",
       "      <td>None</td>\n",
       "      <td>Catholic</td>\n",
       "    </tr>\n",
       "    <tr>\n",
       "      <th>1846</th>\n",
       "      <td>60</td>\n",
       "      <td>Jones Avenue</td>\n",
       "      <td>Damian</td>\n",
       "      <td>Nicholls</td>\n",
       "      <td>67</td>\n",
       "      <td>Head</td>\n",
       "      <td>Single</td>\n",
       "      <td>Male</td>\n",
       "      <td>Retired</td>\n",
       "      <td>None</td>\n",
       "      <td>Catholic</td>\n",
       "    </tr>\n",
       "    <tr>\n",
       "      <th>1933</th>\n",
       "      <td>20</td>\n",
       "      <td>Portsmouth Rest</td>\n",
       "      <td>Timothy</td>\n",
       "      <td>Mills</td>\n",
       "      <td>77</td>\n",
       "      <td>Husband</td>\n",
       "      <td>Married</td>\n",
       "      <td>Male</td>\n",
       "      <td>Retired</td>\n",
       "      <td>None</td>\n",
       "      <td>None</td>\n",
       "    </tr>\n",
       "    <tr>\n",
       "      <th>2040</th>\n",
       "      <td>9</td>\n",
       "      <td>Gibbs Crescent</td>\n",
       "      <td>Rebecca</td>\n",
       "      <td>Knight</td>\n",
       "      <td>65</td>\n",
       "      <td>Head</td>\n",
       "      <td>Widowed</td>\n",
       "      <td>Female</td>\n",
       "      <td>Retired</td>\n",
       "      <td>None</td>\n",
       "      <td>Christian</td>\n",
       "    </tr>\n",
       "    <tr>\n",
       "      <th>2110</th>\n",
       "      <td>26</td>\n",
       "      <td>Gibbs Crescent</td>\n",
       "      <td>Stanley</td>\n",
       "      <td>King</td>\n",
       "      <td>65</td>\n",
       "      <td>Head</td>\n",
       "      <td>Divorced</td>\n",
       "      <td>Male</td>\n",
       "      <td>Retired</td>\n",
       "      <td>None</td>\n",
       "      <td>Christian</td>\n",
       "    </tr>\n",
       "    <tr>\n",
       "      <th>2235</th>\n",
       "      <td>2</td>\n",
       "      <td>Threpenny Road</td>\n",
       "      <td>Chelsea</td>\n",
       "      <td>Swift</td>\n",
       "      <td>65</td>\n",
       "      <td>Head</td>\n",
       "      <td>Widowed</td>\n",
       "      <td>Female</td>\n",
       "      <td>Retired</td>\n",
       "      <td>None</td>\n",
       "      <td>Christian</td>\n",
       "    </tr>\n",
       "    <tr>\n",
       "      <th>2294</th>\n",
       "      <td>21</td>\n",
       "      <td>Threpenny Road</td>\n",
       "      <td>Rosie</td>\n",
       "      <td>White</td>\n",
       "      <td>65</td>\n",
       "      <td>Head</td>\n",
       "      <td>Widowed</td>\n",
       "      <td>Female</td>\n",
       "      <td>Retired</td>\n",
       "      <td>None</td>\n",
       "      <td>None</td>\n",
       "    </tr>\n",
       "    <tr>\n",
       "      <th>2541</th>\n",
       "      <td>10</td>\n",
       "      <td>Dolphin Walks</td>\n",
       "      <td>Luke</td>\n",
       "      <td>O'Connor</td>\n",
       "      <td>69</td>\n",
       "      <td>Head</td>\n",
       "      <td>Divorced</td>\n",
       "      <td>Male</td>\n",
       "      <td>Retired</td>\n",
       "      <td>None</td>\n",
       "      <td>Christian</td>\n",
       "    </tr>\n",
       "    <tr>\n",
       "      <th>2622</th>\n",
       "      <td>38</td>\n",
       "      <td>Evans Hills</td>\n",
       "      <td>Conor</td>\n",
       "      <td>Taylor</td>\n",
       "      <td>72</td>\n",
       "      <td>Head</td>\n",
       "      <td>Widowed</td>\n",
       "      <td>Male</td>\n",
       "      <td>Retired</td>\n",
       "      <td>None</td>\n",
       "      <td>Methodist</td>\n",
       "    </tr>\n",
       "    <tr>\n",
       "      <th>2660</th>\n",
       "      <td>60</td>\n",
       "      <td>Evans Hills</td>\n",
       "      <td>Maureen</td>\n",
       "      <td>Davies</td>\n",
       "      <td>82</td>\n",
       "      <td>Head</td>\n",
       "      <td>Divorced</td>\n",
       "      <td>Female</td>\n",
       "      <td>Retired</td>\n",
       "      <td>None</td>\n",
       "      <td>Christian</td>\n",
       "    </tr>\n",
       "    <tr>\n",
       "      <th>2825</th>\n",
       "      <td>4</td>\n",
       "      <td>Spring Prairie</td>\n",
       "      <td>Rosie</td>\n",
       "      <td>Smith</td>\n",
       "      <td>83</td>\n",
       "      <td>Head</td>\n",
       "      <td>Widowed</td>\n",
       "      <td>Female</td>\n",
       "      <td>Retired</td>\n",
       "      <td>None</td>\n",
       "      <td>Christian</td>\n",
       "    </tr>\n",
       "    <tr>\n",
       "      <th>3008</th>\n",
       "      <td>7</td>\n",
       "      <td>Hove Crescent</td>\n",
       "      <td>Kathryn</td>\n",
       "      <td>Archer</td>\n",
       "      <td>65</td>\n",
       "      <td>Wife</td>\n",
       "      <td>Married</td>\n",
       "      <td>Female</td>\n",
       "      <td>Retired</td>\n",
       "      <td>None</td>\n",
       "      <td>None</td>\n",
       "    </tr>\n",
       "    <tr>\n",
       "      <th>3189</th>\n",
       "      <td>4</td>\n",
       "      <td>Leisure Mall</td>\n",
       "      <td>Eileen</td>\n",
       "      <td>Forster</td>\n",
       "      <td>69</td>\n",
       "      <td>Head</td>\n",
       "      <td>Widowed</td>\n",
       "      <td>Female</td>\n",
       "      <td>Retired</td>\n",
       "      <td>None</td>\n",
       "      <td>None</td>\n",
       "    </tr>\n",
       "    <tr>\n",
       "      <th>3215</th>\n",
       "      <td>10</td>\n",
       "      <td>Leisure Mall</td>\n",
       "      <td>Anthony</td>\n",
       "      <td>Greenwood</td>\n",
       "      <td>66</td>\n",
       "      <td>Husband</td>\n",
       "      <td>Married</td>\n",
       "      <td>Male</td>\n",
       "      <td>Retired</td>\n",
       "      <td>None</td>\n",
       "      <td>Christian</td>\n",
       "    </tr>\n",
       "    <tr>\n",
       "      <th>3258</th>\n",
       "      <td>5</td>\n",
       "      <td>Newcastle River</td>\n",
       "      <td>Sophie</td>\n",
       "      <td>Cox</td>\n",
       "      <td>75</td>\n",
       "      <td>Head</td>\n",
       "      <td>Single</td>\n",
       "      <td>Female</td>\n",
       "      <td>Retired</td>\n",
       "      <td>None</td>\n",
       "      <td>Christian</td>\n",
       "    </tr>\n",
       "    <tr>\n",
       "      <th>3276</th>\n",
       "      <td>18</td>\n",
       "      <td>Newcastle River</td>\n",
       "      <td>Christine</td>\n",
       "      <td>Stone</td>\n",
       "      <td>71</td>\n",
       "      <td>Head</td>\n",
       "      <td>Widowed</td>\n",
       "      <td>Female</td>\n",
       "      <td>Retired</td>\n",
       "      <td>None</td>\n",
       "      <td>Christian</td>\n",
       "    </tr>\n",
       "    <tr>\n",
       "      <th>3436</th>\n",
       "      <td>22</td>\n",
       "      <td>Gardner Crescent</td>\n",
       "      <td>Shannon</td>\n",
       "      <td>Spencer</td>\n",
       "      <td>72</td>\n",
       "      <td>Head</td>\n",
       "      <td>Widowed</td>\n",
       "      <td>Female</td>\n",
       "      <td>Retired</td>\n",
       "      <td>None</td>\n",
       "      <td>Christian</td>\n",
       "    </tr>\n",
       "    <tr>\n",
       "      <th>3487</th>\n",
       "      <td>41</td>\n",
       "      <td>Gardner Crescent</td>\n",
       "      <td>Hugh</td>\n",
       "      <td>Davies</td>\n",
       "      <td>84</td>\n",
       "      <td>Husband</td>\n",
       "      <td>Married</td>\n",
       "      <td>Male</td>\n",
       "      <td>Retired</td>\n",
       "      <td>None</td>\n",
       "      <td>Christian</td>\n",
       "    </tr>\n",
       "    <tr>\n",
       "      <th>4038</th>\n",
       "      <td>7</td>\n",
       "      <td>Rose Harbor</td>\n",
       "      <td>Geraldine</td>\n",
       "      <td>Ford</td>\n",
       "      <td>77</td>\n",
       "      <td>Head</td>\n",
       "      <td>Divorced</td>\n",
       "      <td>Female</td>\n",
       "      <td>Retired</td>\n",
       "      <td>None</td>\n",
       "      <td>None</td>\n",
       "    </tr>\n",
       "    <tr>\n",
       "      <th>4099</th>\n",
       "      <td>27</td>\n",
       "      <td>Rose Harbor</td>\n",
       "      <td>Danielle</td>\n",
       "      <td>Benson-Smith</td>\n",
       "      <td>69</td>\n",
       "      <td>Head</td>\n",
       "      <td>Widowed</td>\n",
       "      <td>Female</td>\n",
       "      <td>Retired</td>\n",
       "      <td>None</td>\n",
       "      <td>Christian</td>\n",
       "    </tr>\n",
       "    <tr>\n",
       "      <th>4265</th>\n",
       "      <td>20</td>\n",
       "      <td>Williams Avenue</td>\n",
       "      <td>Rebecca</td>\n",
       "      <td>Haynes</td>\n",
       "      <td>67</td>\n",
       "      <td>Head</td>\n",
       "      <td>Divorced</td>\n",
       "      <td>Female</td>\n",
       "      <td>Retired</td>\n",
       "      <td>None</td>\n",
       "      <td>None</td>\n",
       "    </tr>\n",
       "    <tr>\n",
       "      <th>4815</th>\n",
       "      <td>18</td>\n",
       "      <td>Skylock Avenue</td>\n",
       "      <td>Leanne</td>\n",
       "      <td>Davies</td>\n",
       "      <td>65</td>\n",
       "      <td>Head</td>\n",
       "      <td>Widowed</td>\n",
       "      <td>Female</td>\n",
       "      <td>Retired</td>\n",
       "      <td>None</td>\n",
       "      <td>Catholic</td>\n",
       "    </tr>\n",
       "    <tr>\n",
       "      <th>5118</th>\n",
       "      <td>2</td>\n",
       "      <td>Horselink Street</td>\n",
       "      <td>Tina</td>\n",
       "      <td>Hayes</td>\n",
       "      <td>65</td>\n",
       "      <td>Wife</td>\n",
       "      <td>Married</td>\n",
       "      <td>Female</td>\n",
       "      <td>Retired</td>\n",
       "      <td>None</td>\n",
       "      <td>None</td>\n",
       "    </tr>\n",
       "    <tr>\n",
       "      <th>5139</th>\n",
       "      <td>13</td>\n",
       "      <td>Horselink Street</td>\n",
       "      <td>Bernard</td>\n",
       "      <td>Lloyd</td>\n",
       "      <td>69</td>\n",
       "      <td>Head</td>\n",
       "      <td>Divorced</td>\n",
       "      <td>Male</td>\n",
       "      <td>Retired</td>\n",
       "      <td>Disabled</td>\n",
       "      <td>None</td>\n",
       "    </tr>\n",
       "    <tr>\n",
       "      <th>5182</th>\n",
       "      <td>12</td>\n",
       "      <td>Evans Road</td>\n",
       "      <td>Lindsey</td>\n",
       "      <td>Wood</td>\n",
       "      <td>66</td>\n",
       "      <td>Head</td>\n",
       "      <td>Married</td>\n",
       "      <td>Female</td>\n",
       "      <td>Retired</td>\n",
       "      <td>None</td>\n",
       "      <td>Christian</td>\n",
       "    </tr>\n",
       "    <tr>\n",
       "      <th>5326</th>\n",
       "      <td>8</td>\n",
       "      <td>Hope Road</td>\n",
       "      <td>Kelly</td>\n",
       "      <td>Robinson</td>\n",
       "      <td>74</td>\n",
       "      <td>Head</td>\n",
       "      <td>Widowed</td>\n",
       "      <td>Female</td>\n",
       "      <td>Retired</td>\n",
       "      <td>None</td>\n",
       "      <td>Christian</td>\n",
       "    </tr>\n",
       "    <tr>\n",
       "      <th>5396</th>\n",
       "      <td>22</td>\n",
       "      <td>Hall Creek</td>\n",
       "      <td>Hannah</td>\n",
       "      <td>Godfrey</td>\n",
       "      <td>70</td>\n",
       "      <td>Head</td>\n",
       "      <td>Widowed</td>\n",
       "      <td>Female</td>\n",
       "      <td>Retired</td>\n",
       "      <td>None</td>\n",
       "      <td>None</td>\n",
       "    </tr>\n",
       "    <tr>\n",
       "      <th>5723</th>\n",
       "      <td>24</td>\n",
       "      <td>Earlram Lane</td>\n",
       "      <td>Georgina</td>\n",
       "      <td>Foster</td>\n",
       "      <td>66</td>\n",
       "      <td>Head</td>\n",
       "      <td>Widowed</td>\n",
       "      <td>Female</td>\n",
       "      <td>Retired</td>\n",
       "      <td>None</td>\n",
       "      <td>Christian</td>\n",
       "    </tr>\n",
       "    <tr>\n",
       "      <th>5770</th>\n",
       "      <td>2</td>\n",
       "      <td>Winter Locks</td>\n",
       "      <td>Frances</td>\n",
       "      <td>Thompson</td>\n",
       "      <td>73</td>\n",
       "      <td>Head</td>\n",
       "      <td>Divorced</td>\n",
       "      <td>Female</td>\n",
       "      <td>Retired</td>\n",
       "      <td>None</td>\n",
       "      <td>None</td>\n",
       "    </tr>\n",
       "  </tbody>\n",
       "</table>\n",
       "</div>"
      ],
      "text/plain": [
       "      House Number                Street First Name       Surname  Age  \\\n",
       "659             39        Parry Crescent     Marian         Hurst   83   \n",
       "728             54        Parry Crescent  Francesca      Sullivan   67   \n",
       "1089             5      Pigeonpound Lane    Chelsea        Walker   68   \n",
       "1250             9           Price Locks    Stanley         Green   66   \n",
       "1328             2  Lichfieldcharm Drive      Reece      Hamilton   65   \n",
       "1461            75            Jones Cape        Tom       Wheeler   75   \n",
       "1553           133            Jones Cape        Lee          Webb   76   \n",
       "1621             3          Powell Coves       Kate          Page   71   \n",
       "1688             2             Hall Loop    Shirley         Kelly   65   \n",
       "1846            60          Jones Avenue     Damian      Nicholls   67   \n",
       "1933            20       Portsmouth Rest    Timothy         Mills   77   \n",
       "2040             9        Gibbs Crescent    Rebecca        Knight   65   \n",
       "2110            26        Gibbs Crescent    Stanley          King   65   \n",
       "2235             2        Threpenny Road    Chelsea         Swift   65   \n",
       "2294            21        Threpenny Road      Rosie         White   65   \n",
       "2541            10         Dolphin Walks       Luke      O'Connor   69   \n",
       "2622            38           Evans Hills      Conor        Taylor   72   \n",
       "2660            60           Evans Hills    Maureen        Davies   82   \n",
       "2825             4        Spring Prairie      Rosie         Smith   83   \n",
       "3008             7         Hove Crescent    Kathryn        Archer   65   \n",
       "3189             4          Leisure Mall     Eileen       Forster   69   \n",
       "3215            10          Leisure Mall    Anthony     Greenwood   66   \n",
       "3258             5       Newcastle River     Sophie           Cox   75   \n",
       "3276            18       Newcastle River  Christine         Stone   71   \n",
       "3436            22      Gardner Crescent    Shannon       Spencer   72   \n",
       "3487            41      Gardner Crescent       Hugh        Davies   84   \n",
       "4038             7           Rose Harbor  Geraldine          Ford   77   \n",
       "4099            27           Rose Harbor   Danielle  Benson-Smith   69   \n",
       "4265            20       Williams Avenue    Rebecca        Haynes   67   \n",
       "4815            18        Skylock Avenue     Leanne        Davies   65   \n",
       "5118             2      Horselink Street       Tina         Hayes   65   \n",
       "5139            13      Horselink Street    Bernard         Lloyd   69   \n",
       "5182            12            Evans Road    Lindsey          Wood   66   \n",
       "5326             8             Hope Road      Kelly      Robinson   74   \n",
       "5396            22            Hall Creek     Hannah       Godfrey   70   \n",
       "5723            24          Earlram Lane   Georgina        Foster   66   \n",
       "5770             2          Winter Locks    Frances      Thompson   73   \n",
       "\n",
       "     Relationship to Head of House Marital Status  Gender Occupation  \\\n",
       "659                           Head        Widowed  Female    Retired   \n",
       "728                           Head        Widowed  Female    Retired   \n",
       "1089                          Head       Divorced  Female    Retired   \n",
       "1250                       Husband        Married    Male    Retired   \n",
       "1328                       Husband        Married    Male    Retired   \n",
       "1461                          Head        Widowed    Male    Retired   \n",
       "1553                          Head        Widowed    Male    Retired   \n",
       "1621                          Head        Widowed  Female    Retired   \n",
       "1688                          Head       Divorced  Female    Retired   \n",
       "1846                          Head         Single    Male    Retired   \n",
       "1933                       Husband        Married    Male    Retired   \n",
       "2040                          Head        Widowed  Female    Retired   \n",
       "2110                          Head       Divorced    Male    Retired   \n",
       "2235                          Head        Widowed  Female    Retired   \n",
       "2294                          Head        Widowed  Female    Retired   \n",
       "2541                          Head       Divorced    Male    Retired   \n",
       "2622                          Head        Widowed    Male    Retired   \n",
       "2660                          Head       Divorced  Female    Retired   \n",
       "2825                          Head        Widowed  Female    Retired   \n",
       "3008                          Wife        Married  Female    Retired   \n",
       "3189                          Head        Widowed  Female    Retired   \n",
       "3215                       Husband        Married    Male    Retired   \n",
       "3258                          Head         Single  Female    Retired   \n",
       "3276                          Head        Widowed  Female    Retired   \n",
       "3436                          Head        Widowed  Female    Retired   \n",
       "3487                       Husband        Married    Male    Retired   \n",
       "4038                          Head       Divorced  Female    Retired   \n",
       "4099                          Head        Widowed  Female    Retired   \n",
       "4265                          Head       Divorced  Female    Retired   \n",
       "4815                          Head        Widowed  Female    Retired   \n",
       "5118                          Wife        Married  Female    Retired   \n",
       "5139                          Head       Divorced    Male    Retired   \n",
       "5182                          Head        Married  Female    Retired   \n",
       "5326                          Head        Widowed  Female    Retired   \n",
       "5396                          Head        Widowed  Female    Retired   \n",
       "5723                          Head        Widowed  Female    Retired   \n",
       "5770                          Head       Divorced  Female    Retired   \n",
       "\n",
       "     Infirmity   Religion  \n",
       "659       None  Methodist  \n",
       "728       None  Christian  \n",
       "1089      None       None  \n",
       "1250      None       None  \n",
       "1328      None  Christian  \n",
       "1461      None  Christian  \n",
       "1553      None  Christian  \n",
       "1621      None  Christian  \n",
       "1688      None   Catholic  \n",
       "1846      None   Catholic  \n",
       "1933      None       None  \n",
       "2040      None  Christian  \n",
       "2110      None  Christian  \n",
       "2235      None  Christian  \n",
       "2294      None       None  \n",
       "2541      None  Christian  \n",
       "2622      None  Methodist  \n",
       "2660      None  Christian  \n",
       "2825      None  Christian  \n",
       "3008      None       None  \n",
       "3189      None       None  \n",
       "3215      None  Christian  \n",
       "3258      None  Christian  \n",
       "3276      None  Christian  \n",
       "3436      None  Christian  \n",
       "3487      None  Christian  \n",
       "4038      None       None  \n",
       "4099      None  Christian  \n",
       "4265      None       None  \n",
       "4815      None   Catholic  \n",
       "5118      None       None  \n",
       "5139  Disabled       None  \n",
       "5182      None  Christian  \n",
       "5326      None  Christian  \n",
       "5396      None       None  \n",
       "5723      None  Christian  \n",
       "5770      None       None  "
      ]
     },
     "execution_count": 35,
     "metadata": {},
     "output_type": "execute_result"
    }
   ],
   "source": [
    "# replacing individuals who are over 65 that are unemployed to retired\n",
    "df.loc[(df['Occupation'] == 'Unemployed') & (df['Age'] >= 65)].replace('Unemployed','Retired')"
   ]
  },
  {
   "cell_type": "code",
   "execution_count": 36,
   "id": "005793c9",
   "metadata": {},
   "outputs": [
    {
     "data": {
      "text/plain": [
       "array(['Chief Technology Officer', 'Therapist, horticultural',\n",
       "       'Records manager', ...,\n",
       "       'Retired Scientist, product/process development',\n",
       "       'Retired Designer, jewellery',\n",
       "       'Retired Lecturer, higher education'], dtype=object)"
      ]
     },
     "execution_count": 36,
     "metadata": {},
     "output_type": "execute_result"
    }
   ],
   "source": [
    "df['Occupation'].unique()"
   ]
  },
  {
   "cell_type": "markdown",
   "id": "ab701639",
   "metadata": {},
   "source": [
    "### INFIRMITY AND CLEANING IT"
   ]
  },
  {
   "cell_type": "code",
   "execution_count": 37,
   "id": "28a70526",
   "metadata": {},
   "outputs": [
    {
     "data": {
      "text/plain": [
       "array(['None', ' ', 'Mental Disability', 'Physical Disability', 'Blind',\n",
       "       'Deaf', 'Unknown Infection', 'Disabled'], dtype=object)"
      ]
     },
     "execution_count": 37,
     "metadata": {},
     "output_type": "execute_result"
    }
   ],
   "source": [
    "df['Infirmity'].unique()"
   ]
  },
  {
   "cell_type": "code",
   "execution_count": 38,
   "id": "e69f5986",
   "metadata": {},
   "outputs": [
    {
     "data": {
      "text/html": [
       "<div>\n",
       "<style scoped>\n",
       "    .dataframe tbody tr th:only-of-type {\n",
       "        vertical-align: middle;\n",
       "    }\n",
       "\n",
       "    .dataframe tbody tr th {\n",
       "        vertical-align: top;\n",
       "    }\n",
       "\n",
       "    .dataframe thead th {\n",
       "        text-align: right;\n",
       "    }\n",
       "</style>\n",
       "<table border=\"1\" class=\"dataframe\">\n",
       "  <thead>\n",
       "    <tr style=\"text-align: right;\">\n",
       "      <th></th>\n",
       "      <th>House Number</th>\n",
       "      <th>Street</th>\n",
       "      <th>First Name</th>\n",
       "      <th>Surname</th>\n",
       "      <th>Age</th>\n",
       "      <th>Relationship to Head of House</th>\n",
       "      <th>Marital Status</th>\n",
       "      <th>Gender</th>\n",
       "      <th>Occupation</th>\n",
       "      <th>Infirmity</th>\n",
       "      <th>Religion</th>\n",
       "    </tr>\n",
       "  </thead>\n",
       "  <tbody>\n",
       "    <tr>\n",
       "      <th>10</th>\n",
       "      <td>4</td>\n",
       "      <td>Cannon Street</td>\n",
       "      <td>Francis</td>\n",
       "      <td>Jones</td>\n",
       "      <td>18</td>\n",
       "      <td>Head</td>\n",
       "      <td>Single</td>\n",
       "      <td>Male</td>\n",
       "      <td>University Student</td>\n",
       "      <td></td>\n",
       "      <td>Catholic</td>\n",
       "    </tr>\n",
       "    <tr>\n",
       "      <th>2354</th>\n",
       "      <td>35</td>\n",
       "      <td>Threpenny Road</td>\n",
       "      <td>Owen</td>\n",
       "      <td>Greenwood</td>\n",
       "      <td>14</td>\n",
       "      <td>Son</td>\n",
       "      <td>NaN</td>\n",
       "      <td>Male</td>\n",
       "      <td>Student</td>\n",
       "      <td></td>\n",
       "      <td>NaN</td>\n",
       "    </tr>\n",
       "    <tr>\n",
       "      <th>2537</th>\n",
       "      <td>8</td>\n",
       "      <td>Dolphin Walks</td>\n",
       "      <td>Jill</td>\n",
       "      <td>Bennett</td>\n",
       "      <td>24</td>\n",
       "      <td>Daughter</td>\n",
       "      <td>Single</td>\n",
       "      <td>Female</td>\n",
       "      <td>Charity fundraiser</td>\n",
       "      <td></td>\n",
       "      <td>None</td>\n",
       "    </tr>\n",
       "    <tr>\n",
       "      <th>2719</th>\n",
       "      <td>104</td>\n",
       "      <td>Evans Hills</td>\n",
       "      <td>Amanda</td>\n",
       "      <td>Rhodes</td>\n",
       "      <td>49</td>\n",
       "      <td>Head</td>\n",
       "      <td>Married</td>\n",
       "      <td>Female</td>\n",
       "      <td>Data scientist</td>\n",
       "      <td></td>\n",
       "      <td>Catholic</td>\n",
       "    </tr>\n",
       "    <tr>\n",
       "      <th>3391</th>\n",
       "      <td>4</td>\n",
       "      <td>Gardner Crescent</td>\n",
       "      <td>Suzanne</td>\n",
       "      <td>Haynes</td>\n",
       "      <td>26</td>\n",
       "      <td>Daughter</td>\n",
       "      <td>Single</td>\n",
       "      <td>Female</td>\n",
       "      <td>Environmental education officer</td>\n",
       "      <td></td>\n",
       "      <td>None</td>\n",
       "    </tr>\n",
       "    <tr>\n",
       "      <th>4285</th>\n",
       "      <td>23</td>\n",
       "      <td>Williams Avenue</td>\n",
       "      <td>Philip</td>\n",
       "      <td>Wilson</td>\n",
       "      <td>22</td>\n",
       "      <td>None</td>\n",
       "      <td>Single</td>\n",
       "      <td>Male</td>\n",
       "      <td>Patent attorney</td>\n",
       "      <td></td>\n",
       "      <td>None</td>\n",
       "    </tr>\n",
       "    <tr>\n",
       "      <th>4351</th>\n",
       "      <td>5</td>\n",
       "      <td>Hawkins Road</td>\n",
       "      <td>Ryan</td>\n",
       "      <td>Roberts-Wilkinson</td>\n",
       "      <td>27</td>\n",
       "      <td>Son</td>\n",
       "      <td>Divorced</td>\n",
       "      <td>Male</td>\n",
       "      <td>Unemployed</td>\n",
       "      <td></td>\n",
       "      <td>None</td>\n",
       "    </tr>\n",
       "    <tr>\n",
       "      <th>5779</th>\n",
       "      <td>2</td>\n",
       "      <td>Skinner Road</td>\n",
       "      <td>Kathleen</td>\n",
       "      <td>Fletcher</td>\n",
       "      <td>14</td>\n",
       "      <td>Daughter</td>\n",
       "      <td>NaN</td>\n",
       "      <td>Female</td>\n",
       "      <td>Student</td>\n",
       "      <td></td>\n",
       "      <td>NaN</td>\n",
       "    </tr>\n",
       "    <tr>\n",
       "      <th>5978</th>\n",
       "      <td>1</td>\n",
       "      <td>Hereford Ranch</td>\n",
       "      <td>Molly</td>\n",
       "      <td>Lee</td>\n",
       "      <td>18</td>\n",
       "      <td>Daughter</td>\n",
       "      <td>Single</td>\n",
       "      <td>Female</td>\n",
       "      <td>Student</td>\n",
       "      <td></td>\n",
       "      <td>None</td>\n",
       "    </tr>\n",
       "  </tbody>\n",
       "</table>\n",
       "</div>"
      ],
      "text/plain": [
       "      House Number            Street First Name            Surname  Age  \\\n",
       "10               4     Cannon Street    Francis              Jones   18   \n",
       "2354            35    Threpenny Road       Owen          Greenwood   14   \n",
       "2537             8     Dolphin Walks       Jill            Bennett   24   \n",
       "2719           104       Evans Hills     Amanda             Rhodes   49   \n",
       "3391             4  Gardner Crescent    Suzanne             Haynes   26   \n",
       "4285            23   Williams Avenue     Philip             Wilson   22   \n",
       "4351             5      Hawkins Road       Ryan  Roberts-Wilkinson   27   \n",
       "5779             2      Skinner Road   Kathleen           Fletcher   14   \n",
       "5978             1    Hereford Ranch      Molly                Lee   18   \n",
       "\n",
       "     Relationship to Head of House Marital Status  Gender  \\\n",
       "10                            Head         Single    Male   \n",
       "2354                           Son            NaN    Male   \n",
       "2537                      Daughter         Single  Female   \n",
       "2719                          Head        Married  Female   \n",
       "3391                      Daughter         Single  Female   \n",
       "4285                          None         Single    Male   \n",
       "4351                           Son       Divorced    Male   \n",
       "5779                      Daughter            NaN  Female   \n",
       "5978                      Daughter         Single  Female   \n",
       "\n",
       "                           Occupation Infirmity  Religion  \n",
       "10                 University Student            Catholic  \n",
       "2354                          Student                 NaN  \n",
       "2537               Charity fundraiser                None  \n",
       "2719                   Data scientist            Catholic  \n",
       "3391  Environmental education officer                None  \n",
       "4285                  Patent attorney                None  \n",
       "4351                       Unemployed                None  \n",
       "5779                          Student                 NaN  \n",
       "5978                          Student                None  "
      ]
     },
     "execution_count": 38,
     "metadata": {},
     "output_type": "execute_result"
    }
   ],
   "source": [
    "df[df['Infirmity']==' ']#checking empty entries for infirmity"
   ]
  },
  {
   "cell_type": "code",
   "execution_count": 39,
   "id": "bc4e23c0",
   "metadata": {},
   "outputs": [],
   "source": [
    "df['Infirmity'] = df['Infirmity'].replace(\" \", \"NA\")#replacing all empty entries with Not Available"
   ]
  },
  {
   "cell_type": "code",
   "execution_count": 40,
   "id": "034a2ac0",
   "metadata": {},
   "outputs": [
    {
     "data": {
      "text/plain": [
       "array(['None', 'NA', 'Mental Disability', 'Physical Disability', 'Blind',\n",
       "       'Deaf', 'Unknown Infection', 'Disabled'], dtype=object)"
      ]
     },
     "execution_count": 40,
     "metadata": {},
     "output_type": "execute_result"
    }
   ],
   "source": [
    "df['Infirmity'].unique()"
   ]
  },
  {
   "cell_type": "code",
   "execution_count": 41,
   "id": "4be504d3",
   "metadata": {},
   "outputs": [
    {
     "data": {
      "image/png": "[encoded data removed]",
      "text/plain": [
       "<Figure size 600.25x500 with 1 Axes>"
      ]
     },
     "metadata": {},
     "output_type": "display_data"
    }
   ],
   "source": [
    "plot2 = sns.relplot(data=df, x='Age', y='Infirmity',hue='Gender')"
   ]
  },
  {
   "cell_type": "markdown",
   "id": "833d7deb",
   "metadata": {},
   "source": [
    "### RELIGION INFORMATION AND CLEANING IT"
   ]
  },
  {
   "cell_type": "markdown",
   "id": "eb3b7e2a",
   "metadata": {},
   "source": [
    "### Religion, dealing with missing values\n",
    "The missing value in Religion for minors was replaced with their parent's religion because in most cases a child grows to practice the religion of their parent. So I imputed the minors religion to that of the previous respondent after them which is their parent/guidance religion. Two respondence gave their religion as ‘Private’. This religion remained private as ‘Private’ refers to a legitimate religion that the respondent chose not to disclose. It is important to respect the privacy of the respondent and not assume that their choice to keep their religion private means they are not part of a legitimate religion. The blanks were replaced with NA (Not Available).\n"
   ]
  },
  {
   "cell_type": "code",
   "execution_count": 42,
   "id": "9be31a18",
   "metadata": {},
   "outputs": [
    {
     "data": {
      "text/plain": [
       "array(['None', 'Methodist', 'Christian', nan, 'Catholic', 'Muslim',\n",
       "       'Jewish', 'Sikh', ' ', 'Orthodoxy', 'Baptist', 'Bahai', 'Private'],\n",
       "      dtype=object)"
      ]
     },
     "execution_count": 42,
     "metadata": {},
     "output_type": "execute_result"
    }
   ],
   "source": [
    "df['Religion'].unique()"
   ]
  },
  {
   "cell_type": "code",
   "execution_count": 43,
   "id": "f9d12db3",
   "metadata": {},
   "outputs": [
    {
     "data": {
      "text/html": [
       "<div>\n",
       "<style scoped>\n",
       "    .dataframe tbody tr th:only-of-type {\n",
       "        vertical-align: middle;\n",
       "    }\n",
       "\n",
       "    .dataframe tbody tr th {\n",
       "        vertical-align: top;\n",
       "    }\n",
       "\n",
       "    .dataframe thead th {\n",
       "        text-align: right;\n",
       "    }\n",
       "</style>\n",
       "<table border=\"1\" class=\"dataframe\">\n",
       "  <thead>\n",
       "    <tr style=\"text-align: right;\">\n",
       "      <th></th>\n",
       "      <th>House Number</th>\n",
       "      <th>Street</th>\n",
       "      <th>First Name</th>\n",
       "      <th>Surname</th>\n",
       "      <th>Age</th>\n",
       "      <th>Relationship to Head of House</th>\n",
       "      <th>Marital Status</th>\n",
       "      <th>Gender</th>\n",
       "      <th>Occupation</th>\n",
       "      <th>Infirmity</th>\n",
       "      <th>Religion</th>\n",
       "    </tr>\n",
       "  </thead>\n",
       "  <tbody>\n",
       "    <tr>\n",
       "      <th>699</th>\n",
       "      <td>46</td>\n",
       "      <td>Parry Crescent</td>\n",
       "      <td>Teresa</td>\n",
       "      <td>Howell</td>\n",
       "      <td>42</td>\n",
       "      <td>None</td>\n",
       "      <td>Single</td>\n",
       "      <td>Female</td>\n",
       "      <td>Structural engineer</td>\n",
       "      <td>None</td>\n",
       "      <td></td>\n",
       "    </tr>\n",
       "    <tr>\n",
       "      <th>2715</th>\n",
       "      <td>101</td>\n",
       "      <td>Evans Hills</td>\n",
       "      <td>Jacqueline</td>\n",
       "      <td>Hancock</td>\n",
       "      <td>73</td>\n",
       "      <td>Head</td>\n",
       "      <td>Divorced</td>\n",
       "      <td>Female</td>\n",
       "      <td>Retired Meteorologist</td>\n",
       "      <td>None</td>\n",
       "      <td></td>\n",
       "    </tr>\n",
       "    <tr>\n",
       "      <th>3467</th>\n",
       "      <td>32</td>\n",
       "      <td>Gardner Crescent</td>\n",
       "      <td>Christian</td>\n",
       "      <td>Bennett</td>\n",
       "      <td>26</td>\n",
       "      <td>None</td>\n",
       "      <td>Single</td>\n",
       "      <td>Male</td>\n",
       "      <td>Archivist</td>\n",
       "      <td>None</td>\n",
       "      <td></td>\n",
       "    </tr>\n",
       "    <tr>\n",
       "      <th>5683</th>\n",
       "      <td>3</td>\n",
       "      <td>Earlram Lane</td>\n",
       "      <td>Lindsey</td>\n",
       "      <td>Miah</td>\n",
       "      <td>25</td>\n",
       "      <td>Head</td>\n",
       "      <td>Married</td>\n",
       "      <td>Female</td>\n",
       "      <td>Biomedical scientist</td>\n",
       "      <td>None</td>\n",
       "      <td></td>\n",
       "    </tr>\n",
       "  </tbody>\n",
       "</table>\n",
       "</div>"
      ],
      "text/plain": [
       "      House Number            Street  First Name  Surname  Age  \\\n",
       "699             46    Parry Crescent      Teresa   Howell   42   \n",
       "2715           101       Evans Hills  Jacqueline  Hancock   73   \n",
       "3467            32  Gardner Crescent   Christian  Bennett   26   \n",
       "5683             3      Earlram Lane     Lindsey     Miah   25   \n",
       "\n",
       "     Relationship to Head of House Marital Status  Gender  \\\n",
       "699                           None         Single  Female   \n",
       "2715                          Head       Divorced  Female   \n",
       "3467                          None         Single    Male   \n",
       "5683                          Head        Married  Female   \n",
       "\n",
       "                 Occupation Infirmity Religion  \n",
       "699     Structural engineer      None           \n",
       "2715  Retired Meteorologist      None           \n",
       "3467              Archivist      None           \n",
       "5683   Biomedical scientist      None           "
      ]
     },
     "execution_count": 43,
     "metadata": {},
     "output_type": "execute_result"
    }
   ],
   "source": [
    "df[df['Religion']==' ']#checking empty entries for Religion"
   ]
  },
  {
   "cell_type": "code",
   "execution_count": 44,
   "id": "75474b88",
   "metadata": {},
   "outputs": [
    {
     "name": "stdout",
     "output_type": "stream",
     "text": [
      "None         2794\n",
      "Christian    1698\n",
      "Catholic      823\n",
      "Methodist     514\n",
      "Muslim        104\n",
      "Sikh           36\n",
      "Jewish         24\n",
      "NaN             4\n",
      "Private         2\n",
      "Bahai           1\n",
      "Name: Religion, dtype: int64\n"
     ]
    }
   ],
   "source": [
    "# imputation of missing data\n",
    "df['Religion'].replace(['Cath0lic'],['Christian'], inplace = True)\n",
    "df['Religion'].replace(['Orthodoxy'],['Christian'], inplace = True)\n",
    "df['Religion'].replace(['Baptist'],['Christian'], inplace = True)\n",
    "df['Religion'].replace([''],['None'], inplace = True)\n",
    "df['Religion'].replace([\" \"], [\"NaN\"], inplace = True)\n",
    "### i imputed the minors religion to that of the previous respondent after them(using time series) \n",
    "df['Religion'].fillna(method='ffill',inplace=True)\n",
    "print(df['Religion'].value_counts())"
   ]
  },
  {
   "cell_type": "code",
   "execution_count": 46,
   "id": "5326c760",
   "metadata": {},
   "outputs": [
    {
     "data": {
      "text/plain": [
       "array(['None', 'Methodist', 'Christian', 'Catholic', 'Muslim', 'Jewish',\n",
       "       'Sikh', 'NaN', 'Bahai', 'Private'], dtype=object)"
      ]
     },
     "execution_count": 46,
     "metadata": {},
     "output_type": "execute_result"
    }
   ],
   "source": [
    "df['Religion'].unique()"
   ]
  },
  {
   "cell_type": "code",
   "execution_count": 47,
   "id": "c1ebf309",
   "metadata": {},
   "outputs": [
    {
     "data": {
      "image/png": "[encoded data removed]",
      "text/plain": [
       "<Figure size 2100x700 with 1 Axes>"
      ]
     },
     "metadata": {},
     "output_type": "display_data"
    }
   ],
   "source": [
    "plt.figure(figsize=(21,7))\n",
    "sns.boxplot(x=df[\"Religion\"], y=df[\"Age\"])\n",
    "plt.show()"
   ]
  },
  {
   "cell_type": "markdown",
   "id": "12dd9a96",
   "metadata": {},
   "source": [
    "### DATA ANALYSIS AND VISUALIZATION"
   ]
  },
  {
   "cell_type": "code",
   "execution_count": 48,
   "id": "b9406fb2",
   "metadata": {},
   "outputs": [
    {
     "data": {
      "image/png": "[encoded data removed]",
      "text/plain": [
       "<Figure size 500x400 with 1 Axes>"
      ]
     },
     "metadata": {},
     "output_type": "display_data"
    }
   ],
   "source": [
    "#USING COUNTPLOT TO VISUALIZE MARITAL STATUS\n",
    "plt.figure(figsize=(5,4))\n",
    "td = float(len(df) )\n",
    "\n",
    "ax = sns.countplot(x=\"Marital Status\", data=df)\n",
    "for p in ax.patches:\n",
    "    height = p.get_height()\n",
    "    ax.text(p.get_x()+p.get_width()/2.,\n",
    "            height + 2,\n",
    "            '{:1.2f}'.format((height/td)*100),\n",
    "            ha=\"center\") \n",
    "plt.show()\n"
   ]
  },
  {
   "cell_type": "code",
   "execution_count": 49,
   "id": "56af11b4",
   "metadata": {},
   "outputs": [
    {
     "data": {
      "image/png": "[encoded data removed]",
      "text/plain": [
       "<Figure size 1000x600 with 1 Axes>"
      ]
     },
     "metadata": {},
     "output_type": "display_data"
    }
   ],
   "source": [
    "#Using countplot to visualize infirmity\n",
    "plt.figure(figsize=(10,6))\n",
    "td = float(len(df) )\n",
    "\n",
    "ax = sns.countplot(x=\"Infirmity\", data=df)\n",
    "for p in ax.patches:\n",
    "    height = p.get_height()\n",
    "    ax.text(p.get_x()+p.get_width()/2.,\n",
    "            height + 2,\n",
    "            '{:1.2f}'.format((height/td)*100),\n",
    "            ha=\"center\") \n",
    "plt.show()\n"
   ]
  },
  {
   "cell_type": "code",
   "execution_count": 50,
   "id": "15e9c6fd",
   "metadata": {},
   "outputs": [
    {
     "data": {
      "image/png": "[encoded data removed]",
      "text/plain": [
       "<Figure size 1000x600 with 1 Axes>"
      ]
     },
     "metadata": {},
     "output_type": "display_data"
    }
   ],
   "source": [
    "#Using countplot to visualize Religion\n",
    "plt.figure(figsize=(10,6))\n",
    "td = float(len(df) )\n",
    "\n",
    "ax = sns.countplot(x=\"Religion\", data=df)\n",
    "for p in ax.patches:\n",
    "    height = p.get_height()\n",
    "    ax.text(p.get_x()+p.get_width()/2.,\n",
    "            height + 2,\n",
    "            '{:1.2f}'.format((height/td)*100),\n",
    "            ha=\"center\") \n",
    "plt.show()"
   ]
  },
  {
   "cell_type": "code",
   "execution_count": 51,
   "id": "f5a11651",
   "metadata": {},
   "outputs": [
    {
     "data": {
      "image/png": "[encoded data removed]",
      "text/plain": [
       "<Figure size 640x480 with 1 Axes>"
      ]
     },
     "metadata": {},
     "output_type": "display_data"
    }
   ],
   "source": [
    "#using boxplot to show the relationship betwwen age and religion\n",
    "sns.boxplot(data=df,x='Age',y = 'Religion')\n",
    "plt.show()"
   ]
  },
  {
   "cell_type": "code",
   "execution_count": 52,
   "id": "ab8355ed",
   "metadata": {},
   "outputs": [
    {
     "data": {
      "text/plain": [
       "<AxesSubplot: xlabel='Age', ylabel='Marital Status'>"
      ]
     },
     "execution_count": 52,
     "metadata": {},
     "output_type": "execute_result"
    },
    {
     "data": {
      "image/png": "[encoded data removed]",
      "text/plain": [
       "<Figure size 640x480 with 1 Axes>"
      ]
     },
     "metadata": {},
     "output_type": "display_data"
    }
   ],
   "source": [
    "#Using boxplot to show the relationship between Marital Status,Age and Gender\n",
    "sns.boxplot(y=df[\"Marital Status\"], x=df[\"Age\"], hue=df['Gender'])"
   ]
  },
  {
   "cell_type": "code",
   "execution_count": 54,
   "id": "765617fb",
   "metadata": {},
   "outputs": [
    {
     "data": {
      "image/png": "[encoded data removed]",
      "text/plain": [
       "<Figure size 2100x700 with 1 Axes>"
      ]
     },
     "metadata": {},
     "output_type": "display_data"
    }
   ],
   "source": [
    "#Using boxplot to show the relationship between Religion,Age and Gender\n",
    "plt.figure(figsize=(21,7))\n",
    "sns.boxplot(x=df[\"Religion\"], y=df[\"Age\"], hue=df['Gender'])\n",
    "plt.show()"
   ]
  },
  {
   "cell_type": "code",
   "execution_count": 56,
   "id": "1155e6c3",
   "metadata": {},
   "outputs": [
    {
     "data": {
      "text/plain": [
       "<AxesSubplot: xlabel='Age', ylabel='Infirmity'>"
      ]
     },
     "execution_count": 56,
     "metadata": {},
     "output_type": "execute_result"
    },
    {
     "data": {
      "image/png": "[encoded data removed]",
      "text/plain": [
       "<Figure size 640x480 with 1 Axes>"
      ]
     },
     "metadata": {},
     "output_type": "display_data"
    }
   ],
   "source": [
    "#Using boxplot to show the relationship between Infirmity,Age and Gender\n",
    "sns.boxplot(y=df[\"Infirmity\"], x=df[\"Age\"], hue=df['Gender'])"
   ]
  },
  {
   "cell_type": "markdown",
   "id": "744889ed",
   "metadata": {},
   "source": [
    "### POPULATION PYRAMID"
   ]
  },
  {
   "cell_type": "code",
   "execution_count": 58,
   "id": "fad147d2",
   "metadata": {},
   "outputs": [
    {
     "name": "stdout",
     "output_type": "stream",
     "text": [
      "[0, 0, 0, 0, 0, 0, 0, 0, 0, 0, 0, 0, 0, 0, 0, 0, 0, 0, 0, 0, 0, 0]\n"
     ]
    }
   ],
   "source": [
    "age_intervals = []\n",
    "male_count = []\n",
    "female_count = []\n",
    "next_start = 0\n",
    "for i in range(0,110,5):\n",
    "    interval = f'{next_start}- {next_start+4}'\n",
    "    next_start = next_start +4+1\n",
    "    age_intervals.append(interval)\n",
    "    male_count.append(0)\n",
    "    female_count.append(0)\n",
    "    \n",
    "    \n",
    "   \n",
    "print(female_count)"
   ]
  },
  {
   "cell_type": "code",
   "execution_count": 59,
   "id": "9c28737c",
   "metadata": {},
   "outputs": [
    {
     "name": "stdout",
     "output_type": "stream",
     "text": [
      "[0, 0, 0, 0, 0, 0, 0, 0, 0, 0, 0, 0, 0, 0, 0, 0, 0, 0, 0, 0, 0, 0]\n"
     ]
    }
   ],
   "source": [
    "print(male_count)"
   ]
  },
  {
   "cell_type": "code",
   "execution_count": 60,
   "id": "968dc50c",
   "metadata": {},
   "outputs": [
    {
     "name": "stdout",
     "output_type": "stream",
     "text": [
      "['0- 4', '5- 9', '10- 14', '15- 19', '20- 24', '25- 29', '30- 34', '35- 39', '40- 44', '45- 49', '50- 54', '55- 59', '60- 64', '65- 69', '70- 74', '75- 79', '80- 84', '85- 89', '90- 94', '95- 99', '100- 104', '105- 109']\n"
     ]
    }
   ],
   "source": [
    "print(age_intervals)"
   ]
  },
  {
   "cell_type": "code",
   "execution_count": 61,
   "id": "26c0193d",
   "metadata": {},
   "outputs": [
    {
     "data": {
      "text/plain": [
       "[Text(0.5, 0, 'Population Count'), Text(0, 0.5, 'Age Group')]"
      ]
     },
     "execution_count": 61,
     "metadata": {},
     "output_type": "execute_result"
    },
    {
     "data": {
      "image/png": "[encoded data removed]",
      "text/plain": [
       "<Figure size 1000x800 with 1 Axes>"
      ]
     },
     "metadata": {},
     "output_type": "display_data"
    }
   ],
   "source": [
    "def get_age_group(age):\n",
    "    index= int(age/5)\n",
    "    return age_intervals[index]\n",
    "df['age_group']= df['Age'].apply(get_age_group)\n",
    "male_df_ages =df[df['Gender']== 'Male']['Age'].to_list()\n",
    "for age in male_df_ages:\n",
    "    index= int(age/5)\n",
    "    male_count[index]=male_count[index]+1\n",
    "female_df_ages =df[df['Gender']== 'Female']['Age'].to_list()\n",
    "for age in female_df_ages:\n",
    "    index= int(age/5)\n",
    "    female_count[index]=female_count[index]+1\n",
    "unemployed_df_age = df[df['Occupation']== 'Unemployed']['Age'].to_list()\n",
    "age_pyramid_df=pd.DataFrame({'Female':female_count,'Male':[-1*val for val in male_count],'Age':age_intervals,})\n",
    "plt.figure(figsize=(10,8))\n",
    "age_pyramid=sns.barplot(x='Male',y='Age',data=age_pyramid_df,order=age_intervals,color=('Orange'),label='Male')\n",
    "age_pyramid=sns.barplot(x='Female',y='Age',data=age_pyramid_df,order=age_intervals,color=('Blue'),label='Female')\n",
    "age_pyramid.legend()\n",
    "plt.title('Population Pyramid')\n",
    "age_pyramid.set(xlabel = 'Population Count',ylabel= 'Age Group')"
   ]
  },
  {
   "cell_type": "code",
   "execution_count": 62,
   "id": "f04e42a8",
   "metadata": {},
   "outputs": [
    {
     "data": {
      "image/png": "[encoded data removed]",
      "text/plain": [
       "<Figure size 1200x500 with 1 Axes>"
      ]
     },
     "metadata": {},
     "output_type": "display_data"
    }
   ],
   "source": [
    "#Using crosstab to visualize Age Group and Religion\n",
    "dd = pd.crosstab(df['age_group'],df['Religion'])\n",
    "dd.plot.bar(stacked=True,figsize=(12,5))\n",
    "plt.xticks(rotation = 90)\n",
    "plt.show()"
   ]
  },
  {
   "cell_type": "code",
   "execution_count": 63,
   "id": "abe827bf",
   "metadata": {},
   "outputs": [
    {
     "data": {
      "image/png": "[encoded data removed]",
      "text/plain": [
       "<Figure size 1200x500 with 1 Axes>"
      ]
     },
     "metadata": {},
     "output_type": "display_data"
    }
   ],
   "source": [
    "#Using crosstab to visualize Age Group and Marital Status\n",
    "dd = pd.crosstab(df['age_group'],df['Marital Status'])\n",
    "dd.plot.bar(stacked=True,figsize=(12,5))\n",
    "plt.xticks(rotation = 90)\n",
    "plt.show()"
   ]
  },
  {
   "cell_type": "markdown",
   "id": "fb9bcb8b",
   "metadata": {},
   "source": [
    "### OCCUPATION STATUS\n",
    "The occupation categories were also subdivided into main categories of Employed, Retired, Unemployed, Student, University student, child. "
   ]
  },
  {
   "cell_type": "code",
   "execution_count": 66,
   "id": "1d22cbe0",
   "metadata": {},
   "outputs": [
    {
     "data": {
      "text/plain": [
       "employed              0.546667\n",
       "Student               0.173167\n",
       "Retired               0.092333\n",
       "University Student    0.072167\n",
       "Unemployed            0.062167\n",
       "Child                 0.053500\n",
       "Name: Occupation_Group, dtype: float64"
      ]
     },
     "execution_count": 66,
     "metadata": {},
     "output_type": "execute_result"
    },
    {
     "data": {
      "image/png": "[encoded data removed]",
      "text/plain": [
       "<Figure size 640x480 with 1 Axes>"
      ]
     },
     "metadata": {},
     "output_type": "display_data"
    }
   ],
   "source": [
    "# Defining occupation status by categorising the employment status.\n",
    "\n",
    "# creating an empty list for occupation status.\n",
    "occ = []\n",
    "\n",
    "# Using the for loop to separate the occupation status of each group.\n",
    "for i in df['Occupation']:\n",
    "    if i == 'University Student':\n",
    "        occ.append('University Student')\n",
    "    elif i == 'Student':\n",
    "        occ.append('Student')\n",
    "    elif i == 'Child':\n",
    "        occ.append('Child')\n",
    "    elif 'Retired' in i:\n",
    "        occ.append('Retired')\n",
    "    elif 'PhD' in i:\n",
    "        occ.append('University Student')\n",
    "    elif i =='Unemployed':\n",
    "        occ.append('Unemployed')        \n",
    "    else:\n",
    "        occ.append('employed')\n",
    "\n",
    "df['Occupation_Group']=occ\n",
    "\n",
    "#showing the occupation status of each group by a boxplot.\n",
    "sns.boxplot( x=df[\"Age\"], y=df[\"Occupation_Group\"] ) \n",
    "ocs = df[\"Occupation_Group\"]\n",
    "\n",
    "#showing the distribution of each group in occupational status.\n",
    "ocs.value_counts()/ocs.count()"
   ]
  },
  {
   "cell_type": "markdown",
   "id": "fd1aafe6",
   "metadata": {},
   "source": [
    "### BIRTH RATE\n",
    "From the analysis, the current crude birth rate of a town is 8.67 births per thousand, which implies that 8.67 babies are born per year for every 1,000 people in the town. To calculate the total number of births in the town, we can divide the total number of births in one year by the town's population and then multiply the result by 1000.\n",
    " \n",
    "Furthermore, four years ago, the birth rate per 1000 was estimated to be 11.83 after adjusting for the population in the previous year. This indicates that in the past four years, there has been a decline of 3.16 births per thousand in the town's birth rate.\n",
    "This decline in birth rate may be attributed to various factors, including women focusing more on their education and careers, medical advancements such as lower child mortality, and access to contraception. The data also suggests that the town's population growth has slowed down due to the declining birth rate.\n",
    "In summary, the current birth rate of 8.67 births per thousand in the town implies that the population is not growing, and the decline in the birth rate over the last four years could be attributed to several social and medical factors that have influenced family planning decisions.\n"
   ]
  },
  {
   "cell_type": "code",
   "execution_count": 67,
   "id": "7c06fce4",
   "metadata": {},
   "outputs": [
    {
     "data": {
      "text/plain": [
       "8.666666666666666"
      ]
     },
     "execution_count": 67,
     "metadata": {},
     "output_type": "execute_result"
    }
   ],
   "source": [
    "Population = len(df)\n",
    "births_one_year = len(df[df['Age'] == 0])\n",
    "Birthrate = (births_one_year/Population)*1000\n",
    "Birthrate\n"
   ]
  },
  {
   "cell_type": "code",
   "execution_count": 68,
   "id": "c33638c4",
   "metadata": {},
   "outputs": [
    {
     "name": "stdout",
     "output_type": "stream",
     "text": [
      "The Birthrate per 1000 for the year is 8.666666666666666\n",
      "The Birthrate for the previous year per 1000 is 11.833333333333332\n",
      "The difference between the previous Birthrate and the current year per 1000 is -3.166666666666666\n"
     ]
    }
   ],
   "source": [
    "age0 = df['Age'] == 0\n",
    "age4= df['Age'] == 4\n",
    "age8 = df['Age'] == 8\n",
    "\n",
    "cbirthrate = (len(df[age0])/Population)*1000 \n",
    "\n",
    "cbirthrate4 = (len(df[age4])/Population)*1000\n",
    "\n",
    "print(f\"The Birthrate per 1000 for the year is {cbirthrate}\")\n",
    "print(f\"The Birthrate for the previous year per 1000 is {cbirthrate4}\")\n",
    "print(f\"The difference between the previous Birthrate and the current year per 1000 is {cbirthrate-cbirthrate4}\")"
   ]
  },
  {
   "cell_type": "markdown",
   "id": "1c70d0a3",
   "metadata": {},
   "source": [
    "### DEATH RATE\n",
    "The death rate of a population can be calculated by dividing the total number of deaths in one year by the absolute population and then multiplying the result by 1000. The analysis shows that the death rate in the population is 16.5 per thousand, which indicates that 16.5 individuals per 1000 people in the population die every year.\n",
    " \n",
    "The decline in the death rate can be attributed to several factors, including better healthcare, low infirmity rates, and an increase in the creation of homes. The low death rate of 16.5 also suggests that the population is aging, and there is a need to prioritize the creation of homes to accommodate the growing aging population.\n",
    "The decrease in the death rate could be attributed to improved medical knowledge, increased income, and better-quality housing. These factors have contributed to better health outcomes and lower mortality rates in the population.\n",
    "In conclusion, the death rate of 16.5 per thousand in the population indicates a decline in mortality, which can be attributed to various factors such as improved healthcare, low infirmity rates, and better-quality housing. However, the aging population poses new challenges, and there is a need to prioritize the creation of homes to cater to the growing aging population.\n"
   ]
  },
  {
   "cell_type": "code",
   "execution_count": 69,
   "id": "92c9b0c0",
   "metadata": {},
   "outputs": [
    {
     "data": {
      "text/plain": [
       "16.5"
      ]
     },
     "execution_count": 69,
     "metadata": {},
     "output_type": "execute_result"
    }
   ],
   "source": [
    "aging_population = df[df['Age'].between(65,113)].groupby('Age').size().sort_index(ascending=False)\n",
    "ageing = aging_population.shift(-1)\n",
    "net = aging_population - ageing\n",
    "net = net.reset_index(name='Count')\n",
    "deaths = net[net['Count'] < 0]\n",
    "death_rate = abs(((deaths['Count']).sum())/Population)*1000\n",
    "death_rate"
   ]
  },
  {
   "cell_type": "markdown",
   "id": "c9276599",
   "metadata": {},
   "source": [
    "### FERTILITY RATE\n",
    "According to the analysis, the average number of children per woman of childbearing age in every 1000 is 226. This means that for every 1000 women of childbearing age, there is an average of 226 children born."
   ]
  },
  {
   "cell_type": "code",
   "execution_count": 70,
   "id": "a36dfddd",
   "metadata": {},
   "outputs": [
    {
     "name": "stdout",
     "output_type": "stream",
     "text": [
      "232\n",
      "275\n",
      "310\n"
     ]
    }
   ],
   "source": [
    "age_zero = []\n",
    "for i in df.index:\n",
    "    if df.at[i,'Age'] == 0:\n",
    "        age_zero.append(df['Age'])\n",
    "    else:\n",
    "        pass\n",
    "Mother2529 = []\n",
    "for i in df.index:\n",
    "    if df.at[i,'Age'] >=25 and df.at[i,'Age'] <=29 and df.at[i,'Gender']== 'Female' :\n",
    "        Mother2529.append(df['Age'])\n",
    "    else:\n",
    "        pass\n",
    "Mother3034 = []\n",
    "for i in df.index:\n",
    "    if df.at[i,'Age'] >=30 and df.at[i,'Age'] <=34 and df.at[i,'Gender']== 'Female' :\n",
    "        Mother3034.append(df['Age'])\n",
    "    else:\n",
    "        pass\n",
    "Mother3540 = []\n",
    "for i in df.index:\n",
    "    if df.at[i,'Age'] >=35 and df.at[i,'Age'] <=40 and df.at[i,'Gender']== 'Female' :\n",
    "        Mother3540.append(df['Age'])\n",
    "    else:\n",
    "        pass\n",
    "print(len(Mother2529))\n",
    "print(len(Mother3034))\n",
    "print(len(Mother3540))"
   ]
  },
  {
   "cell_type": "markdown",
   "id": "254aeb28",
   "metadata": {},
   "source": [
    "### The average number of children per woman of child-bearing age in every 1000 \n",
    "According to the analysis, the average number of children per woman of childbearing age in every 1000 is 226. This means that for every 1000 women of childbearing age, there is an average of 226 children born."
   ]
  },
  {
   "cell_type": "code",
   "execution_count": 71,
   "id": "bdf7eac3",
   "metadata": {},
   "outputs": [
    {
     "name": "stdout",
     "output_type": "stream",
     "text": [
      "The average number of children per woman of child-bearing age in every 1000 is 226.43818849449204\n"
     ]
    }
   ],
   "source": [
    "births_in_total = len(df[age0]) +  len(df[age4]) + len(df[age8])\n",
    "potential_women = len(Mother2529)+ len(Mother3034)+len(Mother3540)\n",
    "fr = births_in_total/potential_women\n",
    "\n",
    "print(f\"The average number of children per woman of child-bearing age in every 1000 is {fr*1000}\")"
   ]
  },
  {
   "cell_type": "markdown",
   "id": "179144eb",
   "metadata": {},
   "source": [
    "### Natural Increase Rate \n",
    "According to the data, the natural increase rate in the city is -7.83%, which is the difference between the death rate and birth rate. This indicates that the rate of birth is less than the rate of death within the year, resulting in a negative rate of natural increase. This negative trend suggests that the city is experiencing a decline in population growth.\n",
    "\n"
   ]
  },
  {
   "cell_type": "code",
   "execution_count": null,
   "id": "0a87b746",
   "metadata": {},
   "outputs": [],
   "source": [
    "nir =Birthrate - death_rate\n",
    "print(f'The natural increase rate is {nir}')"
   ]
  },
  {
   "cell_type": "markdown",
   "id": "f817c421",
   "metadata": {},
   "source": [
    "###   Marriage Rate/Divorce Rate\n",
    "From the analysis, the divorce to marriage ratio is 34.56 per 1684 marriages, indicating a relatively high divorce rate. Out of the total of 1684 marriages, there were 582 divorces recorded.\n",
    "To calculate the divorce rate, the number of divorcees is divided by the total number of marriages (1684) and multiplied by 100, resulting in a divorce rate of 34.56%. This figure suggests that over one-third of marriages end in divorce.\n",
    "It is also noteworthy that the number of female divorcees is higher than that of male divorcees, indicating that women are more likely to initiate divorce proceedings. \n"
   ]
  },
  {
   "cell_type": "code",
   "execution_count": 72,
   "id": "59f3c5cc",
   "metadata": {},
   "outputs": [
    {
     "data": {
      "image/png": "[encoded data removed]",
      "text/plain": [
       "<Figure size 600.25x500 with 1 Axes>"
      ]
     },
     "metadata": {},
     "output_type": "display_data"
    }
   ],
   "source": [
    "Divorced=df[df[\"Marital Status\"]=='Divorced']\n",
    "divorcedplot= sns.displot(data=Divorced, x='Age', hue='Gender')\n",
    "divorcedplot.savefig('divorcedplot.png')"
   ]
  },
  {
   "cell_type": "code",
   "execution_count": 73,
   "id": "5f4a463b",
   "metadata": {},
   "outputs": [
    {
     "data": {
      "text/plain": [
       "Female    346\n",
       "Male      236\n",
       "Name: Gender, dtype: int64"
      ]
     },
     "execution_count": 73,
     "metadata": {},
     "output_type": "execute_result"
    }
   ],
   "source": [
    "# calculating the number of divorced men and women.\n",
    "Divorced_count=Divorced['Gender'].value_counts()\n",
    "Divorced_count"
   ]
  },
  {
   "cell_type": "code",
   "execution_count": 74,
   "id": "0961a04e",
   "metadata": {},
   "outputs": [
    {
     "name": "stdout",
     "output_type": "stream",
     "text": [
      " The divorce to marriage rate is: 34.56 \n"
     ]
    }
   ],
   "source": [
    "# calculating the divorce to marriage rate\n",
    "Divorce_to_Marriage_rate = round(582/ 1684 *100,2)\n",
    "print(f\" The divorce to marriage rate is: {Divorce_to_Marriage_rate} \")"
   ]
  },
  {
   "cell_type": "code",
   "execution_count": 75,
   "id": "ca27f9de",
   "metadata": {},
   "outputs": [],
   "source": [
    "Married=df[df[\"Marital Status\"]=='Married']"
   ]
  },
  {
   "cell_type": "code",
   "execution_count": 76,
   "id": "d519582f",
   "metadata": {},
   "outputs": [
    {
     "data": {
      "text/plain": [
       "Female    845\n",
       "Male      839\n",
       "Name: Gender, dtype: int64"
      ]
     },
     "execution_count": 76,
     "metadata": {},
     "output_type": "execute_result"
    }
   ],
   "source": [
    "Married_count=Married['Gender'].value_counts()\n",
    "Married_count"
   ]
  },
  {
   "cell_type": "markdown",
   "id": "abfe08b0",
   "metadata": {},
   "source": [
    "### Immigration Rate\n",
    "Immigrants are individuals who move to a different country, and according to the data, there has been an increase in the age group of 15-59 years and a decrease in the age group of 25-29 years. This suggests that many students come to the town to attend university and then leave upon graduation. However, those who decide to stay may do so due to the availability of job opportunities and a low cost of living.\n",
    "To calculate the immigration rate, the number of lodgers and visitors was used, resulting in 27 immigrants per thousand people in the town. This figure highlights the attractiveness of the town as a destination for individuals seeking better opportunities.\n"
   ]
  },
  {
   "cell_type": "code",
   "execution_count": 77,
   "id": "c35ab219",
   "metadata": {},
   "outputs": [
    {
     "data": {
      "text/plain": [
       "26.5"
      ]
     },
     "execution_count": 77,
     "metadata": {},
     "output_type": "execute_result"
    }
   ],
   "source": [
    "#calculating Immigration rate according to visitors and lodgers\n",
    "lodgers = []\n",
    "for i in df.index:\n",
    "    if df.at[i,'Relationship to Head of House'] == 'Lodger'and df.at[i,'Marital Status']== 'Single' and df.at[i,'Marital Status']!= 'Divorced':\n",
    "        lodgers.append(df['Relationship to Head of House'])\n",
    "        \n",
    "    \n",
    "    else:\n",
    "        pass\n",
    "visitors = []\n",
    "for i in df.index:\n",
    "    if df.at[i,'Relationship to Head of House'] == 'Visitor'and df.at[i,'Marital Status']== 'Single' and df.at[i,'Marital Status']!= 'Divorced':\n",
    "        visitors.append(df['Relationship to Head of House'])\n",
    "        \n",
    "    \n",
    "    else:\n",
    "        pass\n",
    "Immigrant = len(lodgers)+len(visitors)\n",
    "Immigration_rate = (Immigrant/Population)*1000\n",
    "Immigration_rate"
   ]
  },
  {
   "cell_type": "code",
   "execution_count": 78,
   "id": "b0166943",
   "metadata": {},
   "outputs": [
    {
     "name": "stdout",
     "output_type": "stream",
     "text": [
      " The immigration number is: 159\n"
     ]
    }
   ],
   "source": [
    "# calculating the immigration number according to visitors and lodgers.\n",
    "immigration = ((df['Relationship to Head of House'] == 'Visitor' ) | (df['Relationship to Head of House' ] == 'Lodger' )) & (df['Marital Status']== 'Single')\n",
    "immigration = len(df[immigration])\n",
    "print(f\" The immigration number is: {immigration}\")"
   ]
  },
  {
   "cell_type": "markdown",
   "id": "3235c250",
   "metadata": {},
   "source": [
    "### Emmigration Rate\n",
    "emigration was calculated based on the difference between male and female divorcees. The data shows that there are more female divorcees than male divorcees, indicating that men are more likely to leave the town after a divorce. Based on this information, the emigration rate is estimated to be 18 per thousand people in the town."
   ]
  },
  {
   "cell_type": "code",
   "execution_count": 79,
   "id": "8f40d76a",
   "metadata": {},
   "outputs": [
    {
     "name": "stdout",
     "output_type": "stream",
     "text": [
      " The emmigration number is: 110 \n"
     ]
    }
   ],
   "source": [
    "# calculating emigration number according to divorced men\n",
    "divorced_men = (df['Marital Status'] == 'Divorced') & (df['Gender'] == 'Male')\n",
    "divorced_men = len(df[divorced_men])\n",
    "D1 = divorced_men\n",
    "\n",
    "divorced_women =  (df['Marital Status'] == 'Divorced') & (df['Gender'] == 'Female')\n",
    "divorced_women = len(df[divorced_women])\n",
    "D2 = divorced_women\n",
    "\n",
    "Emigration= D2-D1\n",
    "print(f\" The emmigration number is: {Emigration} \")"
   ]
  },
  {
   "cell_type": "code",
   "execution_count": 80,
   "id": "359ea650",
   "metadata": {},
   "outputs": [
    {
     "data": {
      "text/plain": [
       "18.333333333333332"
      ]
     },
     "execution_count": 80,
     "metadata": {},
     "output_type": "execute_result"
    }
   ],
   "source": [
    "#calculating emigration rate\n",
    "Emigration_rate = (Emigration/Population)*1000\n",
    "Emigration_rate "
   ]
  },
  {
   "cell_type": "markdown",
   "id": "0b87bb76",
   "metadata": {},
   "source": [
    "### NET MIGRATION\n",
    "According to the data, the net migration rate in the city is 8.17%, which is the difference between the immigration rate and the emigration rate. This indicates that more people are coming into the city than leaving, which can help to stabilize the negative natural increase rate (birth rate - death rate).\n",
    "The positive net migration rate suggests that the city is attractive to immigrants, potentially due to factors such as employment opportunities, affordable housing, and access to education and healthcare. This influx of new residents can help to offset the negative impact of the declining population growth rate, as it contributes to an increase in the overall population.\n"
   ]
  },
  {
   "cell_type": "code",
   "execution_count": 81,
   "id": "73a4c87e",
   "metadata": {},
   "outputs": [
    {
     "name": "stdout",
     "output_type": "stream",
     "text": [
      " The Net migration is: 8.17\n"
     ]
    }
   ],
   "source": [
    "# calculating Net Migration according to the difference between immigration and emigration\n",
    "Net_Migration = round((immigration - Emigration)/len(df)*1000 , 2)\n",
    "print(f\" The Net migration is: {Net_Migration}\")"
   ]
  },
  {
   "cell_type": "markdown",
   "id": "0aec1c3b",
   "metadata": {},
   "source": [
    "### Natural Increase Rate\n",
    "According to the data, the natural increase rate in the city is -7.83%, which is the difference between the death rate and birth rate. This indicates that the rate of birth is less than the rate of death within the year, resulting in a negative rate of natural increase. This negative trend suggests that the city is experiencing a decline in population growth.\n",
    "\n"
   ]
  },
  {
   "cell_type": "code",
   "execution_count": 82,
   "id": "a865b889",
   "metadata": {},
   "outputs": [
    {
     "name": "stdout",
     "output_type": "stream",
     "text": [
      "The natural increase rate is -7.833333333333334\n"
     ]
    }
   ],
   "source": [
    "#calculating natural increase rate\n",
    "nir =Birthrate - death_rate\n",
    "print(f'The natural increase rate is {nir}')"
   ]
  },
  {
   "cell_type": "markdown",
   "id": "b235581e",
   "metadata": {},
   "source": [
    "### POPULATION GROWTH\n",
    "The growth rate of a population refers to the percentage change in population size over a specific time period. It is influenced by a variety of factors such as immigration, emigration, birth rate, and death rate.\n",
    " \n",
    "Based on the available data, the total population of the city has grown by 0.34% over the specified time period. This growth rate can be largely attributed to the positive net migration rate, as the declining fertility rate has resulted in a decrease in the natural increase rate.\n"
   ]
  },
  {
   "cell_type": "code",
   "execution_count": 84,
   "id": "7646a437",
   "metadata": {},
   "outputs": [
    {
     "name": "stdout",
     "output_type": "stream",
     "text": [
      " The population growth is : 0.34\n"
     ]
    }
   ],
   "source": [
    "#calculating the  population growth\n",
    "population_growth = round(nir + Net_Migration, 2)\n",
    "print(f\" The population growth is : {population_growth}\")"
   ]
  },
  {
   "cell_type": "markdown",
   "id": "fc22c8d6",
   "metadata": {},
   "source": [
    "### DEPENDENCY RATIO\n",
    "Dependency ratio shows no of people who are too young or too old to take care of them\n",
    "themselves (under 15 and over 65). The number of dependent is 1847, number of independent is 4153, number of minor is 1121 and number of aging population is 726. This shows that the government needs to plan ahead."
   ]
  },
  {
   "cell_type": "code",
   "execution_count": 96,
   "id": "5a911c19",
   "metadata": {},
   "outputs": [
    {
     "name": "stdout",
     "output_type": "stream",
     "text": [
      "1847\n",
      "4153\n",
      "1121\n",
      "726\n",
      "The ratio of people who are too young or too old to is 44.473874307729346\n"
     ]
    }
   ],
   "source": [
    "#calculating the dependency ratio\n",
    "minor = df[df['Age'].between(0,15)]\n",
    "aging_population = df[df['Age'].between(65,113)]\n",
    "dependent =len(minor) + len(aging_population)\n",
    "independent = len(df)-dependent\n",
    "dep_ratio= (dependent/independent)*100\n",
    "print(dependent)\n",
    "print(independent)\n",
    "print(len(minor))\n",
    "print(len(aging_population))\n",
    "print(f'The ratio of people who are too young or too old to is {dep_ratio}')"
   ]
  },
  {
   "cell_type": "markdown",
   "id": "f445bbce",
   "metadata": {},
   "source": [
    "### UNEMPLOYMENT RATE\n",
    "Based on the calculations, the unemployment rate in the city is 8.98%. This rate indicates the proportion of individuals who are currently not employed in relation to the total workforce. A high unemployment rate has several negative effects on the economy, including a reduction in real income for people and a decrease in the overall output of the economy.\n",
    "\n"
   ]
  },
  {
   "cell_type": "code",
   "execution_count": 92,
   "id": "4120559c",
   "metadata": {},
   "outputs": [
    {
     "data": {
      "text/plain": [
       "373"
      ]
     },
     "execution_count": 92,
     "metadata": {},
     "output_type": "execute_result"
    }
   ],
   "source": [
    "#calculating the unemployed\n",
    "unemployed_people =[]\n",
    "for i in df.index:\n",
    "    if df.at[i,'Occupation'] == 'Unemployed':\n",
    "        unemployed_people.append(df['Occupation'])\n",
    "        \n",
    "    \n",
    "    else:\n",
    "        pass\n",
    "        \n",
    "    \n",
    "\n",
    "len(unemployed_people)"
   ]
  },
  {
   "cell_type": "code",
   "execution_count": 93,
   "id": "d38f1b24",
   "metadata": {},
   "outputs": [
    {
     "data": {
      "text/plain": [
       "4153"
      ]
     },
     "execution_count": 93,
     "metadata": {},
     "output_type": "execute_result"
    }
   ],
   "source": [
    "#calculating the labour force\n",
    "labour_force = Population - dependent\n",
    "labour_force"
   ]
  },
  {
   "cell_type": "code",
   "execution_count": 97,
   "id": "1ca5f8ba",
   "metadata": {},
   "outputs": [
    {
     "data": {
      "text/plain": [
       "8.981459186130508"
      ]
     },
     "execution_count": 97,
     "metadata": {},
     "output_type": "execute_result"
    }
   ],
   "source": [
    "# calculating unemployment rate \n",
    "Unemployment_rate = (len(unemployed_people)/labour_force)*100\n",
    "Unemployment_rate"
   ]
  },
  {
   "cell_type": "code",
   "execution_count": 98,
   "id": "0db8228c",
   "metadata": {},
   "outputs": [
    {
     "data": {
      "image/png": "[encoded data removed]",
      "text/plain": [
       "<Figure size 600.25x500 with 1 Axes>"
      ]
     },
     "metadata": {},
     "output_type": "display_data"
    }
   ],
   "source": [
    "# showing the number of unemployed in a plot\n",
    "unemployed = df[df['Occupation'] == 'Unemployed']\n",
    "unemployed_gender=sns.displot(data=unemployed, x='Age', hue='Gender')"
   ]
  },
  {
   "cell_type": "markdown",
   "id": "f6f9342a",
   "metadata": {},
   "source": [
    "### COMMUTERS\n",
    "The identification of commuters in the town was conducted using a methodology that consisted of two criteria: individuals who self-identify as University Students, including PhD students, and those who have occupations that require commuting. Occupations such as baristas, community roles, and retail workers were deemed non-commuting jobs.\n",
    "Based on this approach, the study identified a total of 2256 commuters, comprising 37.6% of the entire population. This percentage is relatively high and may have implications for the transportation infrastructure and traffic patterns in the town.\n"
   ]
  },
  {
   "cell_type": "code",
   "execution_count": 99,
   "id": "a1824fca",
   "metadata": {},
   "outputs": [
    {
     "data": {
      "text/plain": [
       "2308"
      ]
     },
     "execution_count": 99,
     "metadata": {},
     "output_type": "execute_result"
    }
   ],
   "source": [
    "#calculating number of employed people\n",
    "student =df[df['Occupation'].str.contains('Student')]\n",
    "university_student = df[df['Occupation'].str.contains('University student')]\n",
    "High_school_student = []\n",
    "for i in df.index:\n",
    "    if df.at[i,'Age'] >=25 and df.at[i,'Age'] <=29 and df.at[i,'Gender']== 'Female' :\n",
    "        Mother2529.append(df['Age'])\n",
    "    else:\n",
    "        pass\n",
    "Employed_with_student = Population - (len(unemployed_people)+ dependent )\n",
    "Employed = Employed_with_student -(len(student) + len(university_student))\n",
    "Employed"
   ]
  },
  {
   "cell_type": "code",
   "execution_count": 100,
   "id": "e73aafba",
   "metadata": {},
   "outputs": [
    {
     "data": {
      "text/plain": [
       "2256"
      ]
     },
     "execution_count": 100,
     "metadata": {},
     "output_type": "execute_result"
    }
   ],
   "source": [
    "#calculating the numbers of commuters\n",
    "student =df[df['Occupation'].str.contains('Student')]\n",
    "university_student = df[df['Occupation'].str.contains('University student')]\n",
    "retired =df[df['Occupation'].str.contains('Retir')]\n",
    "baritas = df[df['Occupation'].str.contains('Barista')]\n",
    "Community = df[df['Occupation'].str.contains('Community')]\n",
    "retail_worker =df[df['Occupation'].str.contains('Retail')]\n",
    "commuters = Employed - (len(baritas)+len(Community)+len(retail_worker))\n",
    "commuters             "
   ]
  },
  {
   "cell_type": "code",
   "execution_count": 101,
   "id": "ed0b6adf",
   "metadata": {},
   "outputs": [
    {
     "data": {
      "text/plain": [
       "37.6"
      ]
     },
     "execution_count": 101,
     "metadata": {},
     "output_type": "execute_result"
    }
   ],
   "source": [
    "#calculating percentage of commuters\n",
    "percentage_commuters = (commuters/Population)*100\n",
    "percentage_commuters"
   ]
  },
  {
   "cell_type": "markdown",
   "id": "1052d578",
   "metadata": {},
   "source": [
    "### OCCUPANCY\n",
    "Based on the analysis conducted, the mean occupancy rate of the houses is approximately 3 (specifically 2.57). This indicates that, on average, there are about 3 individuals living in each house. However, further analysis reveals that there are approximately 959 houses that are over-occupied out of the total 2330 houses examined.\n",
    "Moreover, there were cases where a single house was occupied by over 20 individuals. This is indicative of an affluent family, as it is expected that a family with such a large number of members would require a massive house to accommodate everyone comfortably.\n"
   ]
  },
  {
   "cell_type": "code",
   "execution_count": 102,
   "id": "f0ca17ea",
   "metadata": {},
   "outputs": [
    {
     "name": "stderr",
     "output_type": "stream",
     "text": [
      "C:\\Users\\HP\\AppData\\Local\\Temp\\ipykernel_34424\\548218820.py:3: FutureWarning: The default value of numeric_only in DataFrame.median is deprecated. In a future version, it will default to False. In addition, specifying 'numeric_only=None' is deprecated. Select only valid columns or specify the value of numeric_only to silence this warning.\n",
      "  occupancy.median()\n"
     ]
    },
    {
     "data": {
      "text/plain": [
       "House Number      16.0\n",
       "No of Occupant     2.0\n",
       "dtype: float64"
      ]
     },
     "execution_count": 102,
     "metadata": {},
     "output_type": "execute_result"
    }
   ],
   "source": [
    "#showing occupancy level in each house\n",
    "occupancy = df.groupby(['House Number', 'Street']).size().reset_index(name='No of Occupant')\n",
    "occupancy.median()"
   ]
  },
  {
   "cell_type": "code",
   "execution_count": 103,
   "id": "eaded20f",
   "metadata": {},
   "outputs": [
    {
     "data": {
      "text/plain": [
       "count    2330.000000\n",
       "mean        2.575107\n",
       "std         1.652685\n",
       "min         1.000000\n",
       "25%         1.000000\n",
       "50%         2.000000\n",
       "75%         4.000000\n",
       "max        20.000000\n",
       "Name: No of Occupant, dtype: float64"
      ]
     },
     "execution_count": 103,
     "metadata": {},
     "output_type": "execute_result"
    }
   ],
   "source": [
    "# occupancy describe\n",
    "occupancy['No of Occupant'].describe()"
   ]
  },
  {
   "cell_type": "code",
   "execution_count": 104,
   "id": "248a9679",
   "metadata": {},
   "outputs": [
    {
     "data": {
      "text/plain": [
       "959"
      ]
     },
     "execution_count": 104,
     "metadata": {},
     "output_type": "execute_result"
    }
   ],
   "source": [
    "#showing the number of occupied houses\n",
    "over_occupied=occupancy[occupancy['No of Occupant'].between(3,20)]\n",
    "len(over_occupied)"
   ]
  },
  {
   "cell_type": "code",
   "execution_count": null,
   "id": "a33cdc33",
   "metadata": {},
   "outputs": [],
   "source": []
  }
 ],
 "metadata": {
  "kernelspec": {
   "display_name": "Python 3 (ipykernel)",
   "language": "python",
   "name": "python3"
  },
  "language_info": {
   "codemirror_mode": {
    "name": "ipython",
    "version": 3
   },
   "file_extension": ".py",
   "mimetype": "text/x-python",
   "name": "python",
   "nbconvert_exporter": "python",
   "pygments_lexer": "ipython3",
   "version": "3.11.1"
  }
 },
 "nbformat": 4,
 "nbformat_minor": 5
}
